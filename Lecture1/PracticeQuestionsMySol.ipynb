{
 "cells": [
  {
   "cell_type": "markdown",
   "metadata": {},
   "source": [
    "Getting to know your computerGetting to know your computer\n",
    "--\n",
    "\n",
    "1\n",
    "--"
   ]
  },
  {
   "cell_type": "code",
   "execution_count": 1,
   "metadata": {
    "collapsed": false
   },
   "outputs": [
    {
     "data": {
      "text/plain": [
       "1.10101110101e15"
      ]
     },
     "execution_count": 1,
     "metadata": {},
     "output_type": "execute_result"
    }
   ],
   "source": [
    "parse(Float64, \"1101011101010000\")"
   ]
  },
  {
   "cell_type": "markdown",
   "metadata": {},
   "source": [
    "2\n",
    "--"
   ]
  },
  {
   "cell_type": "code",
   "execution_count": 2,
   "metadata": {
    "collapsed": false
   },
   "outputs": [
    {
     "data": {
      "text/plain": [
       "2×2 Array{Int64,2}:\n",
       " 5  3\n",
       " 0  5"
      ]
     },
     "execution_count": 2,
     "metadata": {},
     "output_type": "execute_result"
    }
   ],
   "source": [
    "A = [5 3; 0 5]"
   ]
  },
  {
   "cell_type": "code",
   "execution_count": 3,
   "metadata": {
    "collapsed": false
   },
   "outputs": [
    {
     "data": {
      "text/plain": [
       "([5.0,5.0],\n",
       "[1.0 -1.0; 0.0 3.70074e-16])"
      ]
     },
     "execution_count": 3,
     "metadata": {},
     "output_type": "execute_result"
    }
   ],
   "source": [
    "eig(A)"
   ]
  },
  {
   "cell_type": "code",
   "execution_count": 4,
   "metadata": {
    "collapsed": false
   },
   "outputs": [
    {
     "data": {
      "text/plain": [
       "1.8064183905346336"
      ]
     },
     "execution_count": 4,
     "metadata": {},
     "output_type": "execute_result"
    }
   ],
   "source": [
    "cond(A)"
   ]
  },
  {
   "cell_type": "code",
   "execution_count": 5,
   "metadata": {
    "collapsed": false
   },
   "outputs": [
    {
     "data": {
      "text/plain": [
       "manualSum (generic function with 1 method)"
      ]
     },
     "execution_count": 5,
     "metadata": {},
     "output_type": "execute_result"
    }
   ],
   "source": [
    "using Distributions\n",
    "using Benchmarks\n",
    "\n",
    "B = reshape(rand(Normal(),1000000),1000,1000);\n",
    "\n",
    "function manualSum(matrix::Array{Float64,2}, rowMajor::Bool)\n",
    "    intersum = 0.\n",
    "    \n",
    "    if rowMajor\n",
    "        for i in 1:size(matrix, 1)\n",
    "            for j in 1:size(matrix, 2)\n",
    "                intersum += matrix[i, j]\n",
    "            end\n",
    "        end\n",
    "    else\n",
    "        for i in 1:size(matrix, 1)\n",
    "            for j in 1:size(matrix, 2)\n",
    "                intersum += matrix[j, i]\n",
    "            end\n",
    "        end\n",
    "    end\n",
    "    \n",
    "    return intersum\n",
    "end"
   ]
  },
  {
   "cell_type": "code",
   "execution_count": 6,
   "metadata": {
    "collapsed": false
   },
   "outputs": [
    {
     "data": {
      "text/plain": [
       "================ Benchmark Results ========================\n",
       "     Time per evaluation: 6.64 ms [6.49 ms, 6.80 ms]\n",
       "Proportion of time in GC: 0.00% [0.00%, 0.00%]\n",
       "        Memory allocated: 0.00 bytes\n",
       "   Number of allocations: 0 allocations\n",
       "       Number of samples: 100\n",
       "   Number of evaluations: 100\n",
       " Time spent benchmarking: 1.17 s\n"
      ]
     },
     "execution_count": 6,
     "metadata": {},
     "output_type": "execute_result"
    }
   ],
   "source": [
    "@benchmark manualSum(B, true)"
   ]
  },
  {
   "cell_type": "code",
   "execution_count": 7,
   "metadata": {
    "collapsed": false
   },
   "outputs": [
    {
     "data": {
      "text/plain": [
       "================ Benchmark Results ========================\n",
       "     Time per evaluation: 1.85 ms [1.75 ms, 1.94 ms]\n",
       "Proportion of time in GC: 0.00% [0.00%, 0.00%]\n",
       "        Memory allocated: 0.00 bytes\n",
       "   Number of allocations: 0 allocations\n",
       "       Number of samples: 100\n",
       "   Number of evaluations: 100\n",
       " Time spent benchmarking: 0.68 s\n"
      ]
     },
     "execution_count": 7,
     "metadata": {},
     "output_type": "execute_result"
    }
   ],
   "source": [
    "@benchmark manualSum(B, false)"
   ]
  },
  {
   "cell_type": "markdown",
   "metadata": {},
   "source": [
    "Julia is column-major!"
   ]
  },
  {
   "cell_type": "code",
   "execution_count": 8,
   "metadata": {
    "collapsed": false
   },
   "outputs": [
    {
     "data": {
      "text/plain": [
       "================ Benchmark Results ========================\n",
       "     Time per evaluation: 1.62 ms [1.48 ms, 1.76 ms]\n",
       "Proportion of time in GC: 0.00% [0.00%, 0.00%]\n",
       "        Memory allocated: 0.00 bytes\n",
       "   Number of allocations: 0 allocations\n",
       "       Number of samples: 100\n",
       "   Number of evaluations: 100\n",
       " Time spent benchmarking: 0.70 s\n"
      ]
     },
     "execution_count": 8,
     "metadata": {},
     "output_type": "execute_result"
    }
   ],
   "source": [
    "@benchmark sum(B)"
   ]
  },
  {
   "cell_type": "markdown",
   "metadata": {},
   "source": [
    "Writing a good for-loop is as good as using built-in functions!"
   ]
  },
  {
   "cell_type": "markdown",
   "metadata": {},
   "source": [
    "Root finding and optimization\n",
    "--\n",
    "1\n",
    "--"
   ]
  },
  {
   "cell_type": "code",
   "execution_count": 9,
   "metadata": {
    "collapsed": false
   },
   "outputs": [
    {
     "data": {
      "text/plain": [
       "myBisection (generic function with 1 method)"
      ]
     },
     "execution_count": 9,
     "metadata": {},
     "output_type": "execute_result"
    }
   ],
   "source": [
    "function myBisection(f, a, b; tol=10e-5)\n",
    "    @assert f(a)*f(b) < 0\n",
    "    x = 0.\n",
    "    while (abs(a-b) > tol)\n",
    "        x = (a + b)/2\n",
    "        if (f(x)*f(a) < 0)\n",
    "            b = x\n",
    "        else\n",
    "            a = x\n",
    "        end\n",
    "    end\n",
    "    \n",
    "    return x\n",
    "end"
   ]
  },
  {
   "cell_type": "code",
   "execution_count": 10,
   "metadata": {
    "collapsed": false
   },
   "outputs": [
    {
     "data": {
      "text/plain": [
       "-3.0517578125e-5"
      ]
     },
     "execution_count": 10,
     "metadata": {},
     "output_type": "execute_result"
    }
   ],
   "source": [
    "myBisection(sin,-0.5,1)"
   ]
  },
  {
   "cell_type": "markdown",
   "metadata": {},
   "source": [
    "2\n",
    "--\n"
   ]
  },
  {
   "cell_type": "code",
   "execution_count": 11,
   "metadata": {
    "collapsed": false
   },
   "outputs": [],
   "source": [
    "using Optim"
   ]
  },
  {
   "cell_type": "code",
   "execution_count": 12,
   "metadata": {
    "collapsed": false
   },
   "outputs": [
    {
     "data": {
      "text/plain": [
       "Results of Optimization Algorithm\n",
       " * Algorithm: Brent's Method\n",
       " * Search Interval: [-2.000000, 1.000000]\n",
       " * Minimizer: -1.570796e+00\n",
       " * Minimum: -1.000000e+00\n",
       " * Iterations: 9\n",
       " * Convergence: max(|x - x_upper|, |x - x_lower|) <= 2*(1.5e-08*|x|+2.2e-16): true\n",
       " * Objective Function Calls: 10"
      ]
     },
     "execution_count": 12,
     "metadata": {},
     "output_type": "execute_result"
    }
   ],
   "source": [
    "optimize(sin, -2.0, 1.0)"
   ]
  },
  {
   "cell_type": "markdown",
   "metadata": {},
   "source": [
    "3\n",
    "--\n",
    "Normalize the price of apples to 1 and find the price of bananas, p, which clears the market."
   ]
  },
  {
   "cell_type": "code",
   "execution_count": 13,
   "metadata": {
    "collapsed": false
   },
   "outputs": [
    {
     "data": {
      "text/plain": [
       "u_B (generic function with 1 method)"
      ]
     },
     "execution_count": 13,
     "metadata": {},
     "output_type": "execute_result"
    }
   ],
   "source": [
    "const w=0.9\n",
    "const x=-0.5\n",
    "\n",
    "u_A(cons) = (w*cons[1]^x + (1-w)*cons[2]^x)^(1/x)\n",
    "u_B(cons) = (w*cons[2]^x + (1-w)*cons[1]^x)^(1/x)"
   ]
  },
  {
   "cell_type": "code",
   "execution_count": 52,
   "metadata": {
    "collapsed": false
   },
   "outputs": [
    {
     "name": "stderr",
     "output_type": "stream",
     "text": [
      "WARNING: Method definition HHproblem(Any, Any, Any) in module Main at In[50]:3 overwritten at In[52]:3.\n"
     ]
    },
    {
     "data": {
      "text/plain": [
       "HHproblem (generic function with 1 method)"
      ]
     },
     "execution_count": 52,
     "metadata": {},
     "output_type": "execute_result"
    }
   ],
   "source": [
    "function HHproblem(u, endowment, p)\n",
    "    \n",
    "    wealth = (endowment' * [0, p])[1] #total wealth in terms of money\n",
    "    objective(percent) = -u([percent*wealth/1, (1-percent)*wealth/p]) #percentage of wealth spent on apples\n",
    "        \n",
    "    optimum = optimize(objective, 0.0, 1.0).minimizer\n",
    "    \n",
    "    return [optimum*wealth/1, (1-optimum)*wealth/p]\n",
    "end"
   ]
  },
  {
   "cell_type": "code",
   "execution_count": 62,
   "metadata": {
    "collapsed": false
   },
   "outputs": [
    {
     "name": "stderr",
     "output_type": "stream",
     "text": [
      "WARNING: Method definition marketClearing(Any) in module Main at In[57]:2 overwritten at In[62]:2.\n",
      "WARNING: Method definition #marketClearing(Array{Any, 1}, Main.#marketClearing, Any) in module Main overwritten.\n"
     ]
    },
    {
     "data": {
      "text/plain": [
       "marketClearing (generic function with 1 method)"
      ]
     },
     "execution_count": 62,
     "metadata": {},
     "output_type": "execute_result"
    }
   ],
   "source": [
    "function marketClearing(p; end_A = [0, 5], end_B = [10, 0])\n",
    "    HHproblem(u_A, end_A, p)[1] + HHproblem(u_B, end_B, p)[1] - end_A[1] - end_B[1]\n",
    "end"
   ]
  },
  {
   "cell_type": "code",
   "execution_count": 68,
   "metadata": {
    "collapsed": false
   },
   "outputs": [
    {
     "data": {
      "text/plain": [
       "2.6387146949768066"
      ]
     },
     "execution_count": 68,
     "metadata": {},
     "output_type": "execute_result"
    }
   ],
   "source": [
    "p_star = myBisection(marketClearing, 0.1, 100)"
   ]
  },
  {
   "cell_type": "code",
   "execution_count": 77,
   "metadata": {
    "collapsed": false
   },
   "outputs": [
    {
     "name": "stderr",
     "output_type": "stream",
     "text": [
      "WARNING: Method definition marketClearing2(Any) in module Main at In[76]:1 overwritten at In[77]:1.\n"
     ]
    },
    {
     "ename": "LoadError",
     "evalue": "AssertionError: f(a) * f(b) < 0",
     "output_type": "error",
     "traceback": [
      "AssertionError: f(a) * f(b) < 0",
      "",
      " in #myBisection#1(::Float64, ::Function, ::#marketClearing2, ::Float64, ::Int64) at ./In[9]:2",
      " in myBisection(::Function, ::Float64, ::Int64) at ./In[9]:2"
     ]
    }
   ],
   "source": [
    "marketClearing2(p) = marketClearing(p, end_B = [0, 5])\n",
    "p_star2 = myBisection(marketClearing2, 0.1, 100)"
   ]
  },
  {
   "cell_type": "code",
   "execution_count": 84,
   "metadata": {
    "collapsed": false
   },
   "outputs": [
    {
     "data": {
      "text/plain": [
       "9.977304162371334e-9"
      ]
     },
     "execution_count": 84,
     "metadata": {},
     "output_type": "execute_result"
    }
   ],
   "source": [
    "marketClearing2(0.000000001)"
   ]
  },
  {
   "cell_type": "markdown",
   "metadata": {},
   "source": [
    "Only a price of zero will give market clearing?!"
   ]
  },
  {
   "cell_type": "code",
   "execution_count": null,
   "metadata": {
    "collapsed": true
   },
   "outputs": [],
   "source": []
  }
 ],
 "metadata": {
  "kernelspec": {
   "display_name": "Julia 0.5.1",
   "language": "julia",
   "name": "julia-0.5"
  },
  "language_info": {
   "file_extension": ".jl",
   "mimetype": "application/julia",
   "name": "julia",
   "version": "0.5.1"
  }
 },
 "nbformat": 4,
 "nbformat_minor": 0
}
