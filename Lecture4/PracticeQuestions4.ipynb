{
 "cells": [
  {
   "cell_type": "markdown",
   "metadata": {},
   "source": [
    "# Practice Questions 4\n"
   ]
  },
  {
   "cell_type": "markdown",
   "metadata": {},
   "source": [
    "### Problem 1\n",
    "\n",
    "Consider the IFP we saw in class\n",
    "\n",
    "\\begin{align*}\n",
    "  V(a_t, w_t) &= u(c_t) + \\beta E_t \\left[ V(a_{t+1}, w_{t+1} \\right] \\\\\n",
    "  &\\text{Subject to } \\\\\n",
    "  &c_t + a_{t+1} = (1 - \\tau) w_t + (1 + r) a_t\n",
    "\\end{align*}\n",
    "\n",
    "with $w_t$ given by a discrete Markov process with transition matrix $P$ and values $w_t \\in \\{\\bar{w}_1, \\bar{w}_2, \\dots, \\bar{w}_N \\}$.\n",
    "\n",
    "Let utility be given by CRRA preferences: $u(c_t) = (c_t^{1 - \\gamma} - 1) / (1 - \\gamma)$\n",
    "\n",
    "Paramterize the model with\n",
    "\n",
    "$\\gamma = 2.0$, $\\beta = 0.99$, $\\tau = 0.35$, and $r = 0.0075$\n",
    "\n",
    "$$P = \\begin{bmatrix} 0.95 & 0.05 & 0.0 \\\\ 0.10 & 0.70 & 0.20 \\\\ 0.0 & 0.25 & 0.75 \\end{bmatrix}$$\n",
    "\n",
    "and\n",
    "\n",
    "$$w_t \\in \\{0.25, 0.75, 1.0\\}$$\n",
    "\n",
    "1. Solve this model using either interpolated value function iteration or the envelope condition method.\n",
    "2. Plot the value function, $V$, with assets on the x-axis for each of the possible values of $w$.\n",
    "3. Plot the policy function, $a_{t+1}(a_t, s_t)$, with assets on the x-axis for each of the possible values of $w$"
   ]
  },
  {
   "cell_type": "markdown",
   "metadata": {},
   "source": [
    "## Problem 2\n",
    "\n",
    "We now introduce elastic labor supply.\n",
    "\n",
    "\\begin{align*}\n",
    "  V(a_t, w_t) &= \\max_{c_t, l_t} u(c_t) + v(l_t) + \\beta E_t \\left[ V(a_{t+1}, w_{t+1} \\right] \\\\\n",
    "  &\\text{Subject to } \\\\\n",
    "  &c_t + a_{t+1} = (1 - \\tau) l_t w_t + (1 + r) a_t\n",
    "\\end{align*}\n",
    "\n",
    "Use same parameterization as before, but now let labor preferences be given by elliptical labor utility (ensures inner solution to labor).\n",
    "\n",
    "$$v(l_t) = (1 - l^{\\mu})^{1 / \\mu}$$\n",
    "\n",
    "Parameterize these preferences with $\\mu = 2.0$\n",
    "\n",
    "1. Solve this model using either interpolated value function iteration or the envelope condition method.\n",
    "2. Plot the value function, $V$, with assets on the x-axis for each of the possible values of $w$.\n",
    "3. Plot the policy function, $a_{t+1}(a_t, s_t)$, with assets on the x-axis for each of the possible values of $w$"
   ]
  },
  {
   "cell_type": "code",
   "execution_count": null,
   "metadata": {
    "collapsed": true
   },
   "outputs": [],
   "source": []
  }
 ],
 "metadata": {
  "kernelspec": {
   "display_name": "Julia 0.6.0",
   "language": "julia",
   "name": "julia-0.6"
  },
  "language_info": {
   "file_extension": ".jl",
   "mimetype": "application/julia",
   "name": "julia",
   "version": "0.6.0"
  }
 },
 "nbformat": 4,
 "nbformat_minor": 2
}
