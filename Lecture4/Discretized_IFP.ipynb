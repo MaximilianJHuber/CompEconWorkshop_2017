{
 "cells": [
  {
   "cell_type": "markdown",
   "metadata": {},
   "source": [
    "# Discretized VFI: Income Fluctuation\n",
    "\n",
    "Consider the most basic income fluctuation problem\n",
    "\n",
    "\\begin{align*}\n",
    "  V(a_t, s_t) &= u(c_t) + \\beta E \\left[ V(a_{t+1}, s_{t+1}) \\right] \\\\\n",
    "  &\\text{Subject to } \\\\\n",
    "  &c_t + a_{t+1} = (1 + r) a_t + y(s_t)\n",
    "\\end{align*}\n",
    "\n",
    "Let utility be given by CRRA preferences: $u(c_t) = (c_t^{1 - \\gamma} - 1) / (1 - \\gamma)$\n",
    "\n",
    "Let the stochastic process be a discrete Markov process with transition matrix, $P$\n",
    "\n",
    "$$P = \\begin{bmatrix} 0.95 & 0.05 & 0.0 \\\\ 0.10 & 0.70 & 0.20 \\\\ 0.0 & 0.25 & 0.75 \\end{bmatrix}$$\n",
    "\n",
    "Let the endowments be given by $y(s_t) = \\{0.25, 0.75, 1.0\\}$\n"
   ]
  },
  {
   "cell_type": "code",
   "execution_count": 1,
   "metadata": {
    "collapsed": true
   },
   "outputs": [],
   "source": [
    "import matplotlib.pyplot as plt\n",
    "import numpy as np\n",
    "import quantecon as qe\n",
    "\n",
    "from numba import jit\n",
    "\n",
    "%matplotlib inline"
   ]
  },
  {
   "cell_type": "markdown",
   "metadata": {},
   "source": [
    "## Helper functions"
   ]
  },
  {
   "cell_type": "code",
   "execution_count": 2,
   "metadata": {
    "collapsed": true
   },
   "outputs": [],
   "source": [
    "@jit(nopython=True)\n",
    "def u(gamma, c):\n",
    "    if c<1e-10:\n",
    "        return -1e10\n",
    "    else:\n",
    "        return (c**(1-gamma) - 1.0) / (1-gamma)\n",
    "\n",
    "@jit(nopython=True)\n",
    "def fill_flow_u(gamma, r, agrid, ygrid):\n",
    "    # Get sizes\n",
    "    na = agrid.size\n",
    "    ny = ygrid.size\n",
    "\n",
    "    # Allocate array (a_t, y_t, a_{t+1})\n",
    "    out = np.empty((na, ny, na))\n",
    "\n",
    "    for i_at in range(na):\n",
    "        _at = agrid[i_at]\n",
    "        for i_yt in range(ny):\n",
    "            _yt = ygrid[i_yt]\n",
    "            for i_atp1 in range(na):\n",
    "                _atp1 = agrid[i_atp1]\n",
    "                _c = (1 + r)*_at + _yt - _atp1\n",
    "                out[i_at, i_yt, i_atp1] = u(gamma, _c)\n",
    "\n",
    "    return out"
   ]
  },
  {
   "cell_type": "markdown",
   "metadata": {},
   "source": [
    "## Algorithm"
   ]
  },
  {
   "cell_type": "code",
   "execution_count": 3,
   "metadata": {},
   "outputs": [],
   "source": [
    "class IFP(object):\n",
    "    \"\"\"\n",
    "    This class is used to solve the income fluctuation problem\n",
    "    \"\"\"\n",
    "    def __init__(self, beta=0.95, gamma=2.0, r=0.025,\n",
    "                 na=250, a_lb=-4.75, a_ub=7.5,\n",
    "                 P=np.array([[0.95, 0.05, 0.0], [0.10, 0.70, 0.20], [0.0, 0.25, 0.75]]),\n",
    "                 ygrid=np.array([0.25, 0.75, 1.0])):\n",
    "        # Save fundamentals of model\n",
    "        self.beta, self.gamma, self.r = beta, gamma, r\n",
    "        self.P, self.ygrid = P, ygrid\n",
    "\n",
    "        # Save grids and relevant info about grids\n",
    "        self.na, self.ny = na, ygrid.size\n",
    "        self.agrid = np.linspace(a_lb, a_ub, na)\n",
    "\n",
    "        # Evaluate utility function along entire grid\n",
    "        self.U = fill_flow_u(self.gamma, self.r, self.agrid, self.ygrid)\n",
    "\n",
    "        # Initial guess at value function\n",
    "        self.V0 = np.zeros((self.na, self.ny))\n",
    "\n",
    "    def solve_loops(self, tol=1e-8, maxit=100):\n",
    "        # Unpack parameters and relevant info\n",
    "        beta, gamma, r = self.beta, self.gamma, self.r\n",
    "        P, ygrid, agrid = self.P, self.ygrid, self.agrid\n",
    "        U = self.U\n",
    "        na, ny = self.na, self.ny\n",
    "\n",
    "        # Initialize counters\n",
    "        dist, it = 10.0, 0\n",
    "\n",
    "        # Create value functions to update\n",
    "        V_old = np.copy(self.V0)\n",
    "        V = np.empty((na, ny))\n",
    "        A = np.empty((na, ny), dtype=np.int)\n",
    "\n",
    "        while (dist > tol) and (it < maxit):\n",
    "            for (i_a, a) in enumerate(agrid):\n",
    "                for (i_y, y) in enumerate(ygrid):\n",
    "                    astar = -1\n",
    "                    Vstar = -1e10\n",
    "                    for (i_ap, ap) in enumerate(agrid):\n",
    "                        # Compute value of current policy\n",
    "                        EV = np.dot(P[i_y, :], V_old[i_ap, :])\n",
    "                        curr_val = U[i_a, i_y, i_ap] + beta*EV\n",
    "\n",
    "                        # Check whether better than previous one\n",
    "                        if curr_val > Vstar:\n",
    "                            astar = i_ap\n",
    "                            Vstar = curr_val\n",
    "\n",
    "                    # Update values\n",
    "                    V[i_a, i_y] = Vstar\n",
    "                    A[i_a, i_y] = astar\n",
    "\n",
    "            # Update iterators\n",
    "            dist = np.max(np.abs(V - V_old))\n",
    "            it += 1\n",
    "            np.copyto(V_old, V)\n",
    "\n",
    "            if it%25 == 0:\n",
    "                print(\"Iteration: {}\\t\\tDistance: {}\".format(it, dist))\n",
    "            \n",
    "        return A, V\n",
    "\n",
    "    def solve_vec(self, tol=1e-8, maxit=100):\n",
    "        # Unpack parameters and relevant info\n",
    "        beta, gamma, r = self.beta, self.gamma, self.r\n",
    "        P, ygrid, agrid = self.P, self.ygrid, self.agrid\n",
    "        U = self.U\n",
    "        na, ny = self.na, self.ny\n",
    "\n",
    "        # Initialize counters\n",
    "        dist, it = 10.0, 0\n",
    "\n",
    "        # Create value functions to update\n",
    "        V_old = np.copy(self.V0)\n",
    "        V = np.empty((na, ny))\n",
    "        A = np.empty((na, ny), dtype=np.int)\n",
    "\n",
    "        while (dist > tol) and (it < maxit):\n",
    "            # Compute expected value of each point on grid\n",
    "            EV = P @ V_old.T  # E[V(a_{t+1}, y_{t+1}) | y_t] => (ny x na)\n",
    "\n",
    "            # Make things (1, 1, na)\n",
    "            big_V = U + beta*EV[None, :, :]\n",
    "\n",
    "            # Find policy and update V\n",
    "            A = np.argmax(big_V, axis=2)\n",
    "            np.copyto(V, np.max(big_V, axis=2))\n",
    "\n",
    "            # Update iterators\n",
    "            dist = np.max(np.abs(V - V_old))\n",
    "            it += 1\n",
    "            np.copyto(V_old, V)\n",
    "\n",
    "            if it%25 == 0:\n",
    "                print(\"Iteration: {}\\t\\tDistance: {}\".format(it, dist))\n",
    "            \n",
    "        return A, V"
   ]
  },
  {
   "cell_type": "code",
   "execution_count": 4,
   "metadata": {},
   "outputs": [],
   "source": [
    "ifp = IFP()"
   ]
  },
  {
   "cell_type": "code",
   "execution_count": 5,
   "metadata": {},
   "outputs": [
    {
     "name": "stdout",
     "output_type": "stream",
     "text": [
      "Iteration: 25\t\tDistance: 0.9734247596242511\n",
      "Iteration: 50\t\tDistance: 0.21026920040468156\n",
      "Iteration: 75\t\tDistance: 0.053254982228295944\n",
      "Iteration: 100\t\tDistance: 0.014234935671041171\n",
      "CPU times: user 29.2 s, sys: 520 ms, total: 29.7 s\n",
      "Wall time: 29.2 s\n"
     ]
    }
   ],
   "source": [
    "%time A, V_loop = ifp.solve_loops()"
   ]
  },
  {
   "cell_type": "code",
   "execution_count": 6,
   "metadata": {},
   "outputs": [
    {
     "name": "stdout",
     "output_type": "stream",
     "text": [
      "Iteration: 25\t\tDistance: 0.9734247596242511\n",
      "Iteration: 50\t\tDistance: 0.21026920040468156\n",
      "Iteration: 75\t\tDistance: 0.053254982228295944\n",
      "Iteration: 100\t\tDistance: 0.014234935671041171\n",
      "CPU times: user 56 ms, sys: 0 ns, total: 56 ms\n",
      "Wall time: 53.3 ms\n"
     ]
    }
   ],
   "source": [
    "%time A, V_vec = ifp.solve_vec();"
   ]
  },
  {
   "cell_type": "code",
   "execution_count": 7,
   "metadata": {},
   "outputs": [
    {
     "name": "stdout",
     "output_type": "stream",
     "text": [
      "Iteration: 25\t\tDistance: 0.9734247596242511\n",
      "Iteration: 50\t\tDistance: 0.21026920040468156\n",
      "Iteration: 75\t\tDistance: 0.053254982228295944\n",
      "Iteration: 100\t\tDistance: 0.014234935671041171\n",
      "Iteration: 125\t\tDistance: 0.0038849463520733707\n",
      "Iteration: 150\t\tDistance: 0.001069765446487736\n",
      "Iteration: 175\t\tDistance: 0.0002957684991287124\n",
      "Iteration: 200\t\tDistance: 8.192408658658223e-05\n",
      "Iteration: 225\t\tDistance: 2.2710365655598252e-05\n",
      "Iteration: 250\t\tDistance: 6.297847150449343e-06\n",
      "Iteration: 275\t\tDistance: 1.7467410060589827e-06\n",
      "Iteration: 300\t\tDistance: 4.845013847898372e-07\n",
      "Iteration: 325\t\tDistance: 1.3439245094559737e-07\n",
      "Iteration: 350\t\tDistance: 3.727868147507252e-08\n",
      "Iteration: 375\t\tDistance: 1.0340713174628036e-08\n",
      "CPU times: user 184 ms, sys: 4 ms, total: 188 ms\n",
      "Wall time: 187 ms\n"
     ]
    }
   ],
   "source": [
    "%time A, V = ifp.solve_vec(tol=1e-8, maxit=5000);"
   ]
  },
  {
   "cell_type": "code",
   "execution_count": 8,
   "metadata": {},
   "outputs": [
    {
     "data": {
      "text/plain": [
       "<matplotlib.legend.Legend at 0x7f98b2cd8f98>"
      ]
     },
     "execution_count": 8,
     "metadata": {},
     "output_type": "execute_result"
    },
    {
     "data": {
      "image/png": "[encoded data removed]",
      "text/plain": [
       "<matplotlib.figure.Figure at 0x7f98b2cf6080>"
      ]
     },
     "metadata": {},
     "output_type": "display_data"
    }
   ],
   "source": [
    "fig, ax = plt.subplots()\n",
    "\n",
    "ax.plot(ifp.agrid, V)\n",
    "\n",
    "ax.set_title(\"Value Functions\")\n",
    "ax.set_xlabel(\"Assets today\")\n",
    "ax.set_ylabel(r\"$V(a, y)$\")\n",
    "ax.legend(labels=[\"Low y\", \"Med y\", \"High y\"])"
   ]
  },
  {
   "cell_type": "code",
   "execution_count": 9,
   "metadata": {},
   "outputs": [
    {
     "data": {
      "text/plain": [
       "<matplotlib.legend.Legend at 0x7f98a447c710>"
      ]
     },
     "execution_count": 9,
     "metadata": {},
     "output_type": "execute_result"
    },
    {
     "data": {
      "image/png": "[encoded data removed]",
      "text/plain": [
       "<matplotlib.figure.Figure at 0x7f98a449c9e8>"
      ]
     },
     "metadata": {},
     "output_type": "display_data"
    }
   ],
   "source": [
    "fig, ax = plt.subplots()\n",
    "\n",
    "ax.plot(ifp.agrid, A)\n",
    "\n",
    "ax.set_title(\"Policy Functions\")\n",
    "ax.set_xlabel(\"Assets today\")\n",
    "ax.set_ylabel(r\"$A(a, y)$\")\n",
    "ax.legend(labels=[\"Low y\", \"Med y\", \"High y\"])"
   ]
  },
  {
   "cell_type": "code",
   "execution_count": null,
   "metadata": {
    "collapsed": true
   },
   "outputs": [],
   "source": []
  }
 ],
 "metadata": {
  "kernelspec": {
   "display_name": "Python 3",
   "language": "python",
   "name": "python3"
  },
  "language_info": {
   "codemirror_mode": {
    "name": "ipython",
    "version": 3
   },
   "file_extension": ".py",
   "mimetype": "text/x-python",
   "name": "python",
   "nbconvert_exporter": "python",
   "pygments_lexer": "ipython3",
   "version": "3.5.2"
  }
 },
 "nbformat": 4,
 "nbformat_minor": 2
}
