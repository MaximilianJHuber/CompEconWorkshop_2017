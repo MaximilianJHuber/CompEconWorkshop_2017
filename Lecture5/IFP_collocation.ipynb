{
 "cells": [
  {
   "cell_type": "markdown",
   "metadata": {},
   "source": [
    "# Solving an Income Fluctuation Problem with Collocation\n",
    "\n",
    "Victoria Gregory\n",
    "\n",
    "July 13, 2017\n",
    "\n",
    "\\begin{align*}\n",
    "V(a, y) = \\max_{c, a'} u(c) + \\beta \\displaystyle \\sum_{y' \\in Y} \\pi(y, y') V(a', y') \n",
    "\\end{align*}\n",
    "subject to:\n",
    "\\begin{align*}\n",
    "c + a' &= (1+r)a + y \\\\\n",
    "a' &\\geq 0\n",
    "\\end{align*}\n",
    "\n",
    "Let the utility be function be log: $u(c) = \\log(c)$\n",
    "\n",
    "Let income, $y$, take on two values $[0.5 \\hspace{1mm} 1.5]'$ with transition matrix \n",
    "$\\pi(y, y') = \\begin{bmatrix}\n",
    "0.67 & 0.33 \\\\\n",
    "0.33 & 0.67\n",
    "\\end{bmatrix}$"
   ]
  },
  {
   "cell_type": "code",
   "execution_count": 8,
   "metadata": {
    "collapsed": false
   },
   "outputs": [
    {
     "data": {
      "text/plain": [
       "Plots.PlotlyJSBackend()"
      ]
     },
     "execution_count": 8,
     "metadata": {},
     "output_type": "execute_result"
    }
   ],
   "source": [
    "using QuantEcon\n",
    "using BasisMatrices\n",
    "using Plots\n",
    "plotlyjs()"
   ]
  },
  {
   "cell_type": "markdown",
   "metadata": {},
   "source": [
    "Define and set up the type that defines the household's problem."
   ]
  },
  {
   "cell_type": "code",
   "execution_count": 21,
   "metadata": {
    "collapsed": false
   },
   "outputs": [
    {
     "data": {
      "text/plain": [
       "Household"
      ]
     },
     "execution_count": 21,
     "metadata": {},
     "output_type": "execute_result"
    }
   ],
   "source": [
    "mutable struct Household\n",
    "\n",
    "    # User-inputted\n",
    "    r::Float64              # interest rate\n",
    "    β::Float64              # discount rate\n",
    "    y_chain::MarkovChain{Float64, Matrix{Float64}, Vector{Float64}}     # Markov chain for income\n",
    "    amin::Float64           # lower bound on asset grid\n",
    "    amax::Float64           # upper bound on asset grid\n",
    "    asize::Int64            # number of points on asset grid\n",
    "    curv::Float64           # curvature of asset grid\n",
    "    order::Int64            # order of splines \n",
    "\n",
    "    # Generated in constructor\n",
    "    ygrid::Vector{Float64}  # income grid\n",
    "    agrid::Vector{Float64}  # asset grid\n",
    "    s::Matrix{Float64}      # full state space\n",
    "    Ny::Int64               # number of points on income grid\n",
    "    Na::Int64               # final number of points on asset grid\n",
    "    Ns::Int64               # number of points on state space\n",
    "    basis::Basis            # main Basis type\n",
    "    bs::BasisMatrix         # main basis matrix (Direct)\n",
    "    Φ::SparseMatrixCSC      # main basis matric (Expanded)\n",
    "    Emat::SparseMatrixCSC   # transition matrix times basis matrix\n",
    "    Φy::SparseMatrixCSC     # income part of the basis matrix\n",
    "\n",
    "    # Solution\n",
    "    c1::Vector{Float64}     # coefficients on value function\n",
    "    c2::Vector{Float64}     # coefficients on expected value function\n",
    "    ap::Vector{Float64}     # asset policy function\n",
    "\n",
    "end\n",
    "\n",
    "function Household(;r::Float64=0.03, β::Float64=0.96,\n",
    "                   y_chain::MarkovChain{Float64,Matrix{Float64},Vector{Float64}}=MarkovChain([0.67 0.33; 0.33 0.67], [0.5; 1.5]), \n",
    "                   amin::Float64=1e-10, amax::Float64=20.0, asize::Int64=100,\n",
    "                   curv::Float64=0.4, order::Int64=3)\n",
    "\n",
    "    # State space for idiosyncratic shocks\n",
    "    Π = y_chain.p\n",
    "    ygrid0 = y_chain.state_values\n",
    "\n",
    "    # State space for assets (endogenous)\n",
    "    agrid0 = linspace(amin^curv, amax^curv, asize).^(1/curv)\n",
    "\n",
    "    # Define the basis over the state variables\n",
    "    basis = Basis(SplineParams(agrid0, 0, order),\n",
    "                  LinParams(ygrid0, 0))\n",
    "    s, (agrid, ygrid) = nodes(basis)\n",
    "    Ns, Na, Ny = size(s, 1), size(agrid, 1), size(ygrid, 1)\n",
    "\n",
    "    # Compute the basis matrix and expectations matrix\n",
    "    bs = BasisMatrix(basis, Direct(), s, [0 0])\n",
    "    Φ = convert(Expanded, bs).vals[1]\n",
    "    Emat = kron(Π, speye(Na))*Φ\n",
    "\n",
    "    # Save just the y part of the interpolation\n",
    "    Φy = bs.vals[2] \n",
    "\n",
    "    # Initial guess for coefficients on value and expected value function\n",
    "    c1 = zeros(Ns, )\n",
    "    c2 = zeros(Ns, )\n",
    "\n",
    "    # Placeholder for policy function\n",
    "    ap = zeros(Ns, )\n",
    "    \n",
    "    return Household(r, β, y_chain, amin, amax, asize, curv, order, \n",
    "    ygrid, agrid, s, Ny, Na, Ns, basis, bs, Φ, Emat, Φy, c1, c2, ap)\n",
    "\n",
    "end\n"
   ]
  },
  {
   "cell_type": "markdown",
   "metadata": {},
   "source": [
    "Given the state space, `s`, and the current policy function, `ap`, the following functions compute utility and the entire right-hand side of the Bellman equation."
   ]
  },
  {
   "cell_type": "code",
   "execution_count": 54,
   "metadata": {
    "collapsed": false
   },
   "outputs": [
    {
     "data": {
      "text/plain": [
       "value (generic function with 1 method)"
      ]
     },
     "execution_count": 54,
     "metadata": {},
     "output_type": "execute_result"
    }
   ],
   "source": [
    "function utility(h::Household, s::Matrix{Float64}, ap::Vector{Float64})\n",
    "\n",
    "    c = (1 + h.r).*s[:, 1] + s[:, 2] - ap\n",
    "    u = zeros(c)\n",
    "    for cc=1:length(c)\n",
    "        if c[cc] <= 0\n",
    "            u[cc] = -10000000\n",
    "        else\n",
    "            u[cc] = log(c[cc])\n",
    "        end\n",
    "    end\n",
    "    return u\n",
    "\n",
    "end\n",
    "\n",
    "function value(h::Household, s::Matrix{Float64}, \n",
    "               ap::Vector{Float64}; other_pols::Bool=true)\n",
    "\n",
    "    # Compute flow payoff\n",
    "    u = utility(h, s, ap)\n",
    "\n",
    "    # Basis matrix for continuation value\n",
    "    bs_a = BasisMatrix(h.basis[1], Direct(), ap, 0)\n",
    "    Φa = bs_a.vals[1]\n",
    "    Φapy = row_kron(h.Φy, Φa)\n",
    "\n",
    "    # Compute value\n",
    "    v1 = u + h.β*Φapy*h.c2\n",
    "\n",
    "    if other_pols\n",
    "        return v1, Φapy\n",
    "    else\n",
    "        return v1\n",
    "    end\n",
    "\n",
    "end"
   ]
  },
  {
   "cell_type": "markdown",
   "metadata": {},
   "source": [
    "Solve for the optimal policy and compute both the value function and the expected value function, as well as the Jacobian."
   ]
  },
  {
   "cell_type": "code",
   "execution_count": 55,
   "metadata": {
    "collapsed": false
   },
   "outputs": [
    {
     "data": {
      "text/plain": [
       "opt_value (generic function with 1 method)"
      ]
     },
     "execution_count": 55,
     "metadata": {},
     "output_type": "execute_result"
    }
   ],
   "source": [
    "function opt_value(h::Household, s::Matrix{Float64}; compute_jac::Bool=false)\n",
    "\n",
    "    # Solve maximization problem\n",
    "    lower_bound = zeros(size(s, 1), )\n",
    "    upper_bound = (1 + h.r).*s[:, 1] + s[:, 2]\n",
    "    f(ap::Vector{Float64}) = value(h, s, ap; other_pols=false)\n",
    "    ap, v1 = golden_method(f, lower_bound, upper_bound)\n",
    "    v1, Φapy = value(h, s, ap; other_pols=true)\n",
    "\n",
    "    # Compute expected value function\n",
    "    v2 = h.Emat*h.c1\n",
    "\n",
    "    jac = []\n",
    "    if compute_jac\n",
    "        jac = [h.Φ -h.β*Φapy; -h.Emat h.Φ]\n",
    "    end\n",
    "\n",
    "    return v1, v2, ap, Φapy, jac\n",
    "\n",
    "end"
   ]
  },
  {
   "cell_type": "markdown",
   "metadata": {},
   "source": [
    "The rest of the functions implement the Bellman iterations and the Newton iterations."
   ]
  },
  {
   "cell_type": "code",
   "execution_count": 64,
   "metadata": {
    "collapsed": false
   },
   "outputs": [
    {
     "name": "stderr",
     "output_type": "stream",
     "text": [
      "\u001b[1m\u001b[33mWARNING: \u001b[39m\u001b[22m\u001b[33mreplacing docs for 'bellman_update! :: Tuple{Household}' in module 'Main'.\u001b[39m\n",
      "\u001b[1m\u001b[33mWARNING: \u001b[39m\u001b[22m\u001b[33mreplacing docs for 'newton_update! :: Tuple{Household}' in module 'Main'.\u001b[39m\n",
      "\u001b[1m\u001b[33mWARNING: \u001b[39m\u001b[22m\u001b[33mreplacing docs for 'vfi! :: Tuple{Household}' in module 'Main'.\u001b[39m\n"
     ]
    },
    {
     "data": {
      "text/plain": [
       "vfi!"
      ]
     },
     "execution_count": 64,
     "metadata": {},
     "output_type": "execute_result"
    }
   ],
   "source": [
    "\"\"\"\n",
    "One iteration on the Bellman equation\n",
    "\"\"\"\n",
    "function bellman_update!(h::Household)\n",
    "\n",
    "    # Compute values\n",
    "    s = h.s\n",
    "    v1, v2, ap = opt_value(h, s)\n",
    "\n",
    "    # Update coefficients\n",
    "    c1 = h.Φ\\v1\n",
    "    c2 = h.Φ\\v2\n",
    "    h.c1 = c1\n",
    "    h.c2 = c2\n",
    "    h.ap = ap\n",
    "\n",
    "    Void\n",
    "\n",
    "end\n",
    "\n",
    "\"\"\"\n",
    "One Newton iteration on the problem.\n",
    "\"\"\"\n",
    "function newton_update!(h::Household)\n",
    "\n",
    "  # Compute values\n",
    "  s = h.s\n",
    "  v1, v2, ap, Φapy, jac = opt_value(h, s; compute_jac=true)\n",
    "\n",
    "  # Update coefficients\n",
    "  cold = [h.c1; h.c2]\n",
    "  c = cold - jac\\([h.Φ*h.c1 - v1; h.Φ*h.c2 - v2])\n",
    "  h.c1 = c[1:h.Ns]\n",
    "  h.c2 = c[h.Ns+1:2*h.Ns]\n",
    "  h.ap = ap\n",
    "\n",
    "  Void\n",
    "\n",
    "end\n",
    "\n",
    "\"\"\"\n",
    "Solve the problem via VFI\n",
    "\"\"\"\n",
    "function vfi!(h::Household; tol::Float64=1e-8, print::Bool=true, \n",
    "              Nbell::Int64=3, Nnewt::Int64=50)\n",
    "\n",
    "    # Bellman iterations: set number of times\n",
    "    i = 0\n",
    "    dc = 1\n",
    "    while dc > tol && i < Nbell\n",
    "        i = i + 1\n",
    "        c_old = [h.c1; h.c2]\n",
    "        bellman_update!(h)\n",
    "        c_new = [h.c1; h.c2]\n",
    "        dc = maximum(abs, c_new - c_old)\n",
    "        if print\n",
    "            println(\"Bellman iteration $(i); distance of $(dc)\")\n",
    "        end\n",
    "    end\n",
    "\n",
    "    # Newton iterations: until convergence\n",
    "    i = 0\n",
    "    while i < Nnewt && dc > tol\n",
    "        i = i + 1\n",
    "        cold = [h.c1; h.c2]\n",
    "        newton_update!(h)\n",
    "        cnew = [h.c1; h.c2]\n",
    "        dc = maximum(abs, cnew - cold)\n",
    "        if print\n",
    "            println(\"Newton iteration $(i); distance of $(dc)\")\n",
    "        end\n",
    "    end\n",
    "\n",
    "    Void\n",
    "\n",
    "end"
   ]
  },
  {
   "cell_type": "markdown",
   "metadata": {},
   "source": [
    "Finally, a function to create some simple plots of the decision rules."
   ]
  },
  {
   "cell_type": "code",
   "execution_count": 65,
   "metadata": {
    "collapsed": false
   },
   "outputs": [
    {
     "data": {
      "text/plain": [
       "plot_policies (generic function with 1 method)"
      ]
     },
     "execution_count": 65,
     "metadata": {},
     "output_type": "execute_result"
    }
   ],
   "source": [
    "function plot_policies(h::Household)\n",
    "\n",
    "    ap = reshape(h.ap, h.Na, h.Ny)\n",
    "    c = (1 + h.r).*h.s[:, 1] + h.s[:, 2] - h.ap\n",
    "    c = reshape(c, h.Na, h.Ny)\n",
    "\n",
    "    labs = reshape([\"Low Income\", \"High Income\"], 1, h.Ny)\n",
    "    plt_a = plot(h.agrid, ap, label=labs, title=\"Assets Tomorrow\")\n",
    "    plt_c = plot(h.agrid, c, label=labs, title=\"Consumption\")\n",
    "    plt = plot(plt_a, plt_c, layout=(1, 2), lw=2, \n",
    "               xlabel=\"Assets Today\", size=(900, 500))\n",
    "    return plt\n",
    "\n",
    "end"
   ]
  },
  {
   "cell_type": "markdown",
   "metadata": {},
   "source": [
    "Let's see how the code works. Below, I create an instance of the `Household` type with the default parameters, solve the problem, and plot the resulting policy functions."
   ]
  },
  {
   "cell_type": "code",
   "execution_count": 66,
   "metadata": {
    "collapsed": false
   },
   "outputs": [
    {
     "name": "stdout",
     "output_type": "stream",
     "text": [
      "Bellman iteration 1; distance of 3.095577608523707\n",
      "Bellman iteration 2; distance of 3.0802971010699505\n",
      "Bellman iteration 3; distance of 1.7394219214891282\n",
      "Newton iteration 1; distance of 2.3575470938805507\n",
      "Newton iteration 2; distance of 4.703221731754423\n",
      "Newton iteration 3; distance of 2.328616958888407\n",
      "Newton iteration 4; distance of 0.4805641089704622\n",
      "Newton iteration 5; distance of 0.018374737392385043\n",
      "Newton iteration 6; distance of 2.4242494260917624e-5\n",
      "Newton iteration 7; distance of 7.744560548417212e-11\n",
      "  0.147821 seconds (168.30 k allocations: 129.172 MiB, 8.08% gc time)\n"
     ]
    },
    {
     "data": {
      "text/plain": [
       "Void"
      ]
     },
     "execution_count": 66,
     "metadata": {},
     "output_type": "execute_result"
    }
   ],
   "source": [
    "h = Household()\n",
    "@time vfi!(h)"
   ]
  },
  {
   "cell_type": "code",
   "execution_count": 67,
   "metadata": {
    "collapsed": false
   },
   "outputs": [
    {
     "data": {
      "text/html": [
       "<div id=\"140a0b7f-455e-417c-8b1e-1bd808bd1c88\" class=\"plotly-graph-div\"></div>\n",
       "\n",
       "<script>\n",
       "    window.PLOTLYENV=window.PLOTLYENV || {};\n",
       "    window.PLOTLYENV.BASE_URL=\"https://plot.ly\";\n",
       "    require(['plotly'], function(Plotly) {\n",
       "        Plotly.newPlot('140a0b7f-455e-417c-8b1e-1bd808bd1c88', [{\"showlegend\":true,\"mode\":\"lines\",\"xaxis\":\"x\",\"colorbar\":{\"title\":\"\"},\"line\":{\"color\":\"rgba(0, 154, 250, 1.000)\",\"width\":2,\"dash\":\"solid\",\"shape\":\"linear\"},\"y\":[1.8602952338943885e-15,2.9205036208807645e-15,1.1172572122829785e-15,2.5614729132630202e-15,3.3302253121350455e-15,4.955606345127141e-15,5.004638851408421e-15,1.898921148071954e-15,2.9959115009820485e-15,3.2289309336925956e-15,1.433676283728717e-14,1.1218825107249338e-14,3.987813985554295e-14,0.004651462056000694,0.016423356778122577,0.029688915742551177,0.04452752395700021,0.06101101951340836,0.07914334797301345,0.10065594222116997,0.12926567157551191,0.16027882244504554,0.19382121356216406,0.230104932006492,0.2691462470771503,0.31461106113461246,0.36402017412490384,0.41667577125258976,0.47244935580824327,0.5324193028698561,0.5980135516208563,0.6676739429125872,0.7412145862478764,0.8185997517546784,0.9013425020890552,0.9891177220695356,1.080940826763108,1.1771385106477945,1.2785229015033304,1.3851985685801795,1.4963442646557277,1.6121695262775293,1.7334452893286172,1.85995502077965,1.9912605203845175,2.1276849996954343,2.2697136061980063,2.4169498164453516,2.5693280485089325,2.7272509688295026,2.8907540699371364,3.05958636984109,3.233992045538827,3.4141216642063754,3.5998257120062336,3.791206663467066,3.9884182735746294,4.191386927135204,4.400186518306837,4.614924250944966,4.835571261213487,5.062205880728103,5.294893856514134,5.533636351994043,5.778512828524585,6.0295617739508085,6.286810202865752,6.550327396477079,6.820140547884788,7.096295768826358,7.378845449459578,7.667820483849014,7.963272720794789,8.265242083259542,8.573768839216983,8.888899679737348,9.210672348675208,9.539131205036337,9.874316927678487,10.2162704385688,10.565033665623224,10.920646563926457,11.28315036023584,11.652585223027797,12.02899124683547,12.4124085426333,12.802876832552208,13.200435661200668,13.605124345915403,14.016982098183593,14.43604794458453,14.86236065995414,15.29595863372596,15.736880298969457,16.185164074987586,16.640847787428324,17.103969080826307,17.574566070954567,18.05267580660322,18.538335865782862,18.864650761395165,19.02907302444589],\"type\":\"scatter\",\"name\":\"Low Income\",\"yaxis\":\"y\",\"x\":[9.999999999999987e-11,6.886946113163171e-5,0.00045700489245854994,0.0015252517299934791,0.0036479175204330795,0.007086808242499107,0.012053967573591633,0.01873391688365379,0.02729252565554201,0.03788184769706629,0.050643139440551536,0.06570890439611812,0.0832043579379572,0.10324852103762668,0.12595506336113718,0.15143296986973812,0.17978707892139387,0.2111185242240067,0.24552510318180257,0.28310158778495637,0.32393998989148204,0.368129789774909,0.41575813470297845,0.466910012787176,0.5216684062186844,0.580114427164034,0.642327438953322,0.7083851647004501,0.7783637851100842,0.8523380269227117,0.9303812432076469,1.0125654865197422,1.0989615757782438,1.1896391575977525,1.2846667626955182,1.3841118579117324,1.4880408943064747,1.5965193517357772,1.7096117802576394,1.8273818386751135,1.9498923304863165,2.0772052374793595,2.209381751182812,2.3464823023586683,2.4885665887043573,2.635693600912495,2.7879216472216313,2.9453083765775645,3.1079108005129776,3.275785313842524,3.448987714261335,3.627573220926614,3.811596492094703,4.001111641879564,4.196172256192715,4.396831407919616,4.6031416713826685,4.815155136137032,5.0329234201414765,5.256497682343304,5.485928634713114,5.7212665537626135,5.962561291575947,6.209862286382905,6.463218572700204,6.722678791065131,6.9882911973841715,7.260103671917572,7.538163727919387,7.822518519951312,8.113214851887136,8.410299184623918,8.71381764351444,9.023816025535135,9.340339806202232,9.663434146248514,9.993143898072049,10.329513611967636,10.672587542151177,11.022409652586333,11.379023622622574,11.742472852452996,12.112800468399882,12.490049328035468,12.874262025145185,13.265480894539868,13.663748016723426,14.069105222421967,14.48159409697998,14.901255984629168,15.328131992634686,15.762262995324155,16.203689638003556,16.65245234076474,17.108591302188454,17.572146502947117,18.04315770931093,18.52166447656083,19.00770615231208,19.50132187975123,19.8329280643995,20.0]},{\"showlegend\":true,\"mode\":\"lines\",\"xaxis\":\"x\",\"colorbar\":{\"title\":\"\"},\"line\":{\"color\":\"rgba(227, 111, 71, 1.000)\",\"width\":2,\"dash\":\"solid\",\"shape\":\"linear\"},\"y\":[0.5672632273206467,0.5673231111858705,0.5676606481418455,0.5685898817937381,0.5704373072160163,0.5734332034696751,0.5777668522911047,0.5836021141879567,0.5910782579475062,0.6003274264972621,0.6114724912733525,0.6246285121447605,0.639904032808311,0.6574146726386718,0.6772830567486227,0.6996182332013317,0.7245182117312975,0.7520525957617599,0.782314448120351,0.8155125848399021,0.851848119129686,0.8914061667427082,0.9342594524356823,0.9803796071750891,1.0297552774942629,1.082502579169496,1.1387493719449917,1.1986834304382494,1.2625538527838693,1.3304857769379517,1.402288283664436,1.4779634217559061,1.5576095339915081,1.6414230040483653,1.7296969692883875,1.8223805238924116,1.9194057440133763,2.020788815838488,2.1267153483166203,2.237410399098812,2.3528240766492265,2.4729290193560582,2.5978192017576616,2.727659024379716,2.8625192442657226,3.0023498459669216,3.1472412396816054,3.2973211425483626,3.452623969118564,3.61316603600278,3.7790268341298385,3.950299293436195,4.127005535570452,4.309186926546468,4.4969365337077285,4.690292671870143,4.88929139423194,5.094009389716963,5.304492266376687,5.520780156831378,5.742936447949259,5.971009308199474,6.205041561937093,6.44508872365814,6.691199730407478,6.9434169436444675,7.2017937307983715,7.466375635273209,7.73720688913839,8.014337627354939,8.297811212765161,8.587673440829308,8.883970959927598,9.186746280370011,9.496045545135319,9.811912032138355,10.134389275471047,10.463521212706901,10.799350356596191,11.141919762022535,11.491271705359727,11.8474480704826,12.210491080305635,12.5804420811342,12.957342462569388,13.341233102650454,13.73215476549741,14.130147933232571,14.535252846588431,14.947509413917608,15.36695756344111,15.793636584286487,16.22758599356864,16.668844688862247,17.1174514598344,17.57344500040954,18.036863905429882,18.50774612429848,18.986129620093752,19.472052279713985,19.7985360060064,19.963040424972984],\"type\":\"scatter\",\"name\":\"High Income\",\"yaxis\":\"y\",\"x\":[9.999999999999987e-11,6.886946113163171e-5,0.00045700489245854994,0.0015252517299934791,0.0036479175204330795,0.007086808242499107,0.012053967573591633,0.01873391688365379,0.02729252565554201,0.03788184769706629,0.050643139440551536,0.06570890439611812,0.0832043579379572,0.10324852103762668,0.12595506336113718,0.15143296986973812,0.17978707892139387,0.2111185242240067,0.24552510318180257,0.28310158778495637,0.32393998989148204,0.368129789774909,0.41575813470297845,0.466910012787176,0.5216684062186844,0.580114427164034,0.642327438953322,0.7083851647004501,0.7783637851100842,0.8523380269227117,0.9303812432076469,1.0125654865197422,1.0989615757782438,1.1896391575977525,1.2846667626955182,1.3841118579117324,1.4880408943064747,1.5965193517357772,1.7096117802576394,1.8273818386751135,1.9498923304863165,2.0772052374793595,2.209381751182812,2.3464823023586683,2.4885665887043573,2.635693600912495,2.7879216472216313,2.9453083765775645,3.1079108005129776,3.275785313842524,3.448987714261335,3.627573220926614,3.811596492094703,4.001111641879564,4.196172256192715,4.396831407919616,4.6031416713826685,4.815155136137032,5.0329234201414765,5.256497682343304,5.485928634713114,5.7212665537626135,5.962561291575947,6.209862286382905,6.463218572700204,6.722678791065131,6.9882911973841715,7.260103671917572,7.538163727919387,7.822518519951312,8.113214851887136,8.410299184623918,8.71381764351444,9.023816025535135,9.340339806202232,9.663434146248514,9.993143898072049,10.329513611967636,10.672587542151177,11.022409652586333,11.379023622622574,11.742472852452996,12.112800468399882,12.490049328035468,12.874262025145185,13.265480894539868,13.663748016723426,14.069105222421967,14.48159409697998,14.901255984629168,15.328131992634686,15.762262995324155,16.203689638003556,16.65245234076474,17.108591302188454,17.572146502947117,18.04315770931093,18.52166447656083,19.00770615231208,19.50132187975123,19.8329280643995,20.0]},{\"showlegend\":true,\"mode\":\"lines\",\"xaxis\":\"x2\",\"colorbar\":{\"title\":\"\"},\"line\":{\"color\":\"rgba(0, 154, 250, 1.000)\",\"width\":2,\"dash\":\"solid\",\"shape\":\"linear\"},\"y\":[0.5000000001029982,0.5000709355449627,0.5004707150392312,0.5015710092818907,0.5037573550460427,0.5072994124897691,0.5124155866007943,0.5192959343901615,0.5281113014252052,0.539018303127975,0.5521624336237537,0.5676801715279904,0.5857004886760561,0.6016945146127548,0.6133103584838487,0.6262870432232791,0.6406531673320355,0.6564410604373185,0.6737475083042432,0.6909386931973351,0.7043925180127145,0.7188948610231107,0.7344096651819038,0.7508123811642993,0.7681722113280945,0.7829067988443426,0.7975770879970179,0.8129609483888738,0.8292653428551435,0.845488864860537,0.8602791288830202,0.8752685082027473,0.8907158368037148,0.9067285805710068,0.9218642634873285,0.9365174915795488,0.9517412943725609,0.9672764216400562,0.9823772321620385,0.9970047252551877,1.0120448357451783,1.0273518683262108,1.042217914389679,1.0569217506497786,1.0719630659809705,1.0870794092444358,1.1018456904402738,1.11671781142954,1.1318200760194346,1.146807904428297,1.1617032757520391,1.176814047713322,1.1919523413187174,1.207023326929575,1.2222317118722632,1.2375296866901389,1.2528176479495197,1.2682228630859393,1.2837246044388841,1.299268361868637,1.3149352325410213,1.330698669647389,1.3465442738090916,1.362521802980349,1.3786023013566258,1.3947973808462768,1.4111297304399448,1.4275793855980208,1.4441680918721813,1.460898306723494,1.4777658479841724,1.4947876763136216,1.511959452025085,1.5292884230416472,1.5467811611713156,1.564437490898623,1.582265866339002,1.6002678152903282,1.6184482407372265,1.6368115035951227,1.6553606656780282,1.674100474100129,1.693034122216039,1.7121655848487354,1.7314986390640712,1.7510367787427654,1.7707836246729212,1.7907427178939592,1.8109175739739776,1.8313115659844499,1.8519280078291978,1.8727702252297416,1.8938416934177056,1.9151456120182253,1.9366849662665224,1.9584631106072052,1.9804833597639515,2.0027483399030857,2.0252615302782218,2.048025670360907,2.06326514493632,2.070926975554112],\"type\":\"scatter\",\"name\":\"Low Income\",\"yaxis\":\"y2\",\"x\":[9.999999999999987e-11,6.886946113163171e-5,0.00045700489245854994,0.0015252517299934791,0.0036479175204330795,0.007086808242499107,0.012053967573591633,0.01873391688365379,0.02729252565554201,0.03788184769706629,0.050643139440551536,0.06570890439611812,0.0832043579379572,0.10324852103762668,0.12595506336113718,0.15143296986973812,0.17978707892139387,0.2111185242240067,0.24552510318180257,0.28310158778495637,0.32393998989148204,0.368129789774909,0.41575813470297845,0.466910012787176,0.5216684062186844,0.580114427164034,0.642327438953322,0.7083851647004501,0.7783637851100842,0.8523380269227117,0.9303812432076469,1.0125654865197422,1.0989615757782438,1.1896391575977525,1.2846667626955182,1.3841118579117324,1.4880408943064747,1.5965193517357772,1.7096117802576394,1.8273818386751135,1.9498923304863165,2.0772052374793595,2.209381751182812,2.3464823023586683,2.4885665887043573,2.635693600912495,2.7879216472216313,2.9453083765775645,3.1079108005129776,3.275785313842524,3.448987714261335,3.627573220926614,3.811596492094703,4.001111641879564,4.196172256192715,4.396831407919616,4.6031416713826685,4.815155136137032,5.0329234201414765,5.256497682343304,5.485928634713114,5.7212665537626135,5.962561291575947,6.209862286382905,6.463218572700204,6.722678791065131,6.9882911973841715,7.260103671917572,7.538163727919387,7.822518519951312,8.113214851887136,8.410299184623918,8.71381764351444,9.023816025535135,9.340339806202232,9.663434146248514,9.993143898072049,10.329513611967636,10.672587542151177,11.022409652586333,11.379023622622574,11.742472852452996,12.112800468399882,12.490049328035468,12.874262025145185,13.265480894539868,13.663748016723426,14.069105222421967,14.48159409697998,14.901255984629168,15.328131992634686,15.762262995324155,16.203689638003556,16.65245234076474,17.108591302188454,17.572146502947117,18.04315770931093,18.52166447656083,19.00770615231208,19.50132187975123,19.8329280643995,20.0]},{\"showlegend\":true,\"mode\":\"lines\",\"xaxis\":\"x2\",\"colorbar\":{\"title\":\"\"},\"line\":{\"color\":\"rgba(227, 111, 71, 1.000)\",\"width\":2,\"dash\":\"solid\",\"shape\":\"linear\"},\"y\":[0.9327367727823533,0.932747824359095,0.9328100668973868,0.9329811274881551,0.9333200478300299,0.933866209020099,0.9346487343096946,0.9356938202022066,0.9370330434777021,0.9386908766307162,0.9406899423504156,0.9430516593832413,0.9457964558677849,0.9489313040300837,0.9524506585133486,0.9563577257644986,0.9606624795577382,0.965399484188967,0.9705764081569057,0.976082050578603,0.9818100704585404,0.987767516725448,0.9939714263083855,1.0005377059957024,1.007563180910982,1.015015280809459,1.0228478901769302,1.030953289203214,1.0391608458795174,1.0474223907924411,1.0560043968394406,1.0649790293594283,1.074320889060083,1.0839053282773201,1.093509796287996,1.1032546897566728,1.1132763771222927,1.1236261164493628,1.1341847853487486,1.1447928947365553,1.1555650237516795,1.166592375247682,1.1778440019606347,1.1892177470497125,1.2007043420997658,1.2124145629729486,1.2243180569566743,1.2363464853265285,1.248524155409803,1.26089283725502,1.273430511559337,1.286101124118217,1.298938851287093,1.311958064589482,1.3251208901707683,1.338443678287062,1.3519445272922095,1.3656004005041797,1.3794188563690346,1.393412455982225,1.4075700458052491,1.421895242176018,1.436396568386133,1.4510694313162524,1.465915399473733,1.480942211152617,1.496146202507326,1.5115311468018895,1.527101750618579,1.5428564481949127,1.5588000846785892,1.5749347193333278,1.5912612128922756,1.6077842259311783,1.6245044552529802,1.641425138497615,1.658548939543163,1.6758778076197647,1.6934148118195225,1.7111621801413879,1.7291226259415247,1.747298967543987,1.765693402146244,1.7843087267423332,1.803147423330154,1.8222122187256105,1.8415056917277184,1.8610304458620561,1.8807890733009494,1.9007842502504353,1.9210183889726178,1.9414943008973946,1.9622143335750266,1.9831812221254346,2.0043975814197097,2.025865897625991,2.0475885351603758,2.0695682865591714,2.091807716787688,2.1143092564297845,2.129379900325084,2.136959575027017],\"type\":\"scatter\",\"name\":\"High Income\",\"yaxis\":\"y2\",\"x\":[9.999999999999987e-11,6.886946113163171e-5,0.00045700489245854994,0.0015252517299934791,0.0036479175204330795,0.007086808242499107,0.012053967573591633,0.01873391688365379,0.02729252565554201,0.03788184769706629,0.050643139440551536,0.06570890439611812,0.0832043579379572,0.10324852103762668,0.12595506336113718,0.15143296986973812,0.17978707892139387,0.2111185242240067,0.24552510318180257,0.28310158778495637,0.32393998989148204,0.368129789774909,0.41575813470297845,0.466910012787176,0.5216684062186844,0.580114427164034,0.642327438953322,0.7083851647004501,0.7783637851100842,0.8523380269227117,0.9303812432076469,1.0125654865197422,1.0989615757782438,1.1896391575977525,1.2846667626955182,1.3841118579117324,1.4880408943064747,1.5965193517357772,1.7096117802576394,1.8273818386751135,1.9498923304863165,2.0772052374793595,2.209381751182812,2.3464823023586683,2.4885665887043573,2.635693600912495,2.7879216472216313,2.9453083765775645,3.1079108005129776,3.275785313842524,3.448987714261335,3.627573220926614,3.811596492094703,4.001111641879564,4.196172256192715,4.396831407919616,4.6031416713826685,4.815155136137032,5.0329234201414765,5.256497682343304,5.485928634713114,5.7212665537626135,5.962561291575947,6.209862286382905,6.463218572700204,6.722678791065131,6.9882911973841715,7.260103671917572,7.538163727919387,7.822518519951312,8.113214851887136,8.410299184623918,8.71381764351444,9.023816025535135,9.340339806202232,9.663434146248514,9.993143898072049,10.329513611967636,10.672587542151177,11.022409652586333,11.379023622622574,11.742472852452996,12.112800468399882,12.490049328035468,12.874262025145185,13.265480894539868,13.663748016723426,14.069105222421967,14.48159409697998,14.901255984629168,15.328131992634686,15.762262995324155,16.203689638003556,16.65245234076474,17.108591302188454,17.572146502947117,18.04315770931093,18.52166447656083,19.00770615231208,19.50132187975123,19.8329280643995,20.0]}],\n",
       "               {\"xaxis\":{\"tickvals\":[5.0,10.0,15.0,20.0],\"ticks\":\"inside\",\"tickmode\":\"array\",\"domain\":[0.024127539613103918,0.4906872752017109],\"linecolor\":\"rgba(0, 0, 0, 1.000)\",\"showgrid\":true,\"title\":\"Assets Today\",\"tickangle\":0,\"titlefont\":{\"color\":\"rgba(0, 0, 0, 1.000)\",\"family\":\"sans-serif\",\"size\":15},\"tickcolor\":\"rgba(0, 0, 0, 1.000)\",\"ticktext\":[\"5\",\"10\",\"15\",\"20\"],\"zeroline\":false,\"type\":\"-\",\"tickfont\":{\"color\":\"rgba(0, 0, 0, 1.000)\",\"family\":\"sans-serif\",\"size\":11},\"anchor\":\"y\"},\"paper_bgcolor\":\"rgba(255, 255, 255, 1.000)\",\"height\":500,\"yaxis\":{\"tickvals\":[5.0,10.0,15.0],\"ticks\":\"inside\",\"tickmode\":\"array\",\"domain\":[0.060651793525809315,0.9532370953630797],\"linecolor\":\"rgba(0, 0, 0, 1.000)\",\"showgrid\":true,\"title\":\"\",\"tickangle\":0,\"titlefont\":{\"color\":\"rgba(0, 0, 0, 1.000)\",\"family\":\"sans-serif\",\"size\":15},\"tickcolor\":\"rgba(0, 0, 0, 1.000)\",\"ticktext\":[\"5\",\"10\",\"15\"],\"zeroline\":false,\"type\":\"-\",\"tickfont\":{\"color\":\"rgba(0, 0, 0, 1.000)\",\"family\":\"sans-serif\",\"size\":11},\"anchor\":\"x\"},\"yaxis2\":{\"tickvals\":[1.0,1.5,2.0],\"ticks\":\"inside\",\"tickmode\":\"array\",\"domain\":[0.060651793525809315,0.9532370953630797],\"linecolor\":\"rgba(0, 0, 0, 1.000)\",\"showgrid\":true,\"title\":\"\",\"tickangle\":0,\"titlefont\":{\"color\":\"rgba(0, 0, 0, 1.000)\",\"family\":\"sans-serif\",\"size\":15},\"tickcolor\":\"rgba(0, 0, 0, 1.000)\",\"ticktext\":[\"1.0\",\"1.5\",\"2.0\"],\"zeroline\":false,\"type\":\"-\",\"tickfont\":{\"color\":\"rgba(0, 0, 0, 1.000)\",\"family\":\"sans-serif\",\"size\":11},\"anchor\":\"x2\"},\"annotations\":[{\"yanchor\":\"top\",\"xanchor\":\"center\",\"rotation\":-0.0,\"y\":1.0,\"font\":{\"color\":\"rgba(0, 0, 0, 1.000)\",\"family\":\"sans-serif\",\"size\":20},\"yref\":\"paper\",\"showarrow\":false,\"text\":\"Assets Tomorrow\",\"xref\":\"paper\",\"x\":0.25740740740740736},{\"yanchor\":\"top\",\"xanchor\":\"center\",\"rotation\":-0.0,\"y\":1.0,\"font\":{\"color\":\"rgba(0, 0, 0, 1.000)\",\"family\":\"sans-serif\",\"size\":20},\"yref\":\"paper\",\"showarrow\":false,\"text\":\"Consumption\",\"xref\":\"paper\",\"x\":0.7623456790123455}],\"plot_bgcolor\":\"rgba(255, 255, 255, 1.000)\",\"showlegend\":true,\"legend\":{\"bordercolor\":\"rgba(0, 0, 0, 1.000)\",\"bgcolor\":\"rgba(255, 255, 255, 1.000)\",\"font\":{\"color\":\"rgba(0, 0, 0, 1.000)\",\"family\":\"sans-serif\",\"size\":11},\"y\":1.0,\"x\":1.0},\"xaxis2\":{\"tickvals\":[5.0,10.0,15.0,20.0],\"ticks\":\"inside\",\"tickmode\":\"array\",\"domain\":[0.5290658112180421,0.995625546806649],\"linecolor\":\"rgba(0, 0, 0, 1.000)\",\"showgrid\":true,\"title\":\"Assets Today\",\"tickangle\":0,\"titlefont\":{\"color\":\"rgba(0, 0, 0, 1.000)\",\"family\":\"sans-serif\",\"size\":15},\"tickcolor\":\"rgba(0, 0, 0, 1.000)\",\"ticktext\":[\"5\",\"10\",\"15\",\"20\"],\"zeroline\":false,\"type\":\"-\",\"tickfont\":{\"color\":\"rgba(0, 0, 0, 1.000)\",\"family\":\"sans-serif\",\"size\":11},\"anchor\":\"y2\"},\"margin\":{\"l\":0,\"b\":20,\"r\":0,\"t\":20},\"width\":900}, {showLink: false});\n",
       "\n",
       "    });\n",
       " </script>\n"
      ]
     },
     "execution_count": 67,
     "metadata": {},
     "output_type": "execute_result"
    }
   ],
   "source": [
    "plot_policies(h)"
   ]
  },
  {
   "cell_type": "code",
   "execution_count": 68,
   "metadata": {
    "collapsed": false,
    "scrolled": false
   },
   "outputs": [
    {
     "name": "stdout",
     "output_type": "stream",
     "text": [
      "Bellman iteration 1; distance of 3.095577608523707\n",
      "Bellman iteration 2; distance of 3.0802971010699505\n",
      "Bellman iteration 3; distance of 1.7394219214891282\n",
      "Bellman iteration 4; distance of 1.7165544892312585\n",
      "Bellman iteration 5; distance of 1.266484996028586\n",
      "Bellman iteration 6; distance of 1.2463209041193668\n",
      "Bellman iteration 7; distance of 0.9845013612649254\n",
      "Bellman iteration 8; distance of 0.9675192721951067\n",
      "Bellman iteration 9; distance of 0.7932130890268203\n",
      "Bellman iteration 10; distance of 0.7786333809924244\n",
      "Bellman iteration 11; distance of 0.654193423011411\n",
      "Bellman iteration 12; distance of 0.6414012522037762\n",
      "Bellman iteration 13; distance of 0.548564135890075\n",
      "Bellman iteration 14; distance of 0.53717851570668\n",
      "Bellman iteration 15; distance of 0.46575526677079004\n",
      "Bellman iteration 16; distance of 0.45553552411064757\n",
      "Bellman iteration 17; distance of 0.3993133108044713\n",
      "Bellman iteration 18; distance of 0.39009261001036144\n",
      "Bellman iteration 19; distance of 0.34503933495456707\n",
      "Bellman iteration 20; distance of 0.3366910508795211\n",
      "Bellman iteration 21; distance of 0.30006626358227706\n",
      "Bellman iteration 22; distance of 0.29248796480287353\n",
      "Bellman iteration 23; distance of 0.2623607653428266\n",
      "Bellman iteration 24; distance of 0.25546655250937533\n",
      "Bellman iteration 25; distance of 0.230436979879169\n",
      "Bellman iteration 26; distance of 0.22415335375983503\n",
      "Bellman iteration 27; distance of 0.2031822426664469\n",
      "Bellman iteration 28; distance of 0.1974455784612168\n",
      "Bellman iteration 29; distance of 0.17974623480713703\n",
      "Bellman iteration 30; distance of 0.17450106880295735\n",
      "Bellman iteration 31; distance of 0.1594679221744144\n",
      "Bellman iteration 32; distance of 0.15466564936238036\n",
      "Bellman iteration 33; distance of 0.14182581870650424\n",
      "Bellman iteration 34; distance of 0.13742365373009946\n",
      "Bellman iteration 35; distance of 0.12640320405791527\n",
      "Bellman iteration 36; distance of 0.12236334172859742\n",
      "Bellman iteration 37; distance of 0.11286328298213277\n",
      "Bellman iteration 38; distance of 0.1091522059239729\n",
      "Bellman iteration 39; distance of 0.10093111342772687\n",
      "Bellman iteration 40; distance of 0.0975190111488633\n",
      "Bellman iteration 41; distance of 0.09038021708280297\n",
      "Bellman iteration 42; distance of 0.08724049790458643\n",
      "Bellman iteration 43; distance of 0.08102251441650843\n",
      "Bellman iteration 44; distance of 0.07813139174263029\n",
      "Bellman iteration 45; distance of 0.07270065992202213\n",
      "Bellman iteration 46; distance of 0.0700368002395475\n",
      "Bellman iteration 47; distance of 0.0652821302928075\n",
      "Bellman iteration 48; distance of 0.06282635125643843\n",
      "Bellman iteration 49; distance of 0.05865460481404661\n",
      "Bellman iteration 50; distance of 0.056389556532701945\n",
      "Bellman iteration 51; distance of 0.05272227141413488\n",
      "Bellman iteration 52; distance of 0.05063227595727682\n",
      "Bellman iteration 53; distance of 0.047403036457636105\n",
      "Bellman iteration 54; distance of 0.04547387173114892\n",
      "Bellman iteration 55; distance of 0.042626180287946625\n",
      "Bellman iteration 56; distance of 0.040844927488846494\n",
      "Bellman iteration 57; distance of 0.03833052971145001\n",
      "Bellman iteration 58; distance of 0.036685433224263875\n",
      "Bellman iteration 59; distance of 0.03446293830884706\n",
      "Bellman iteration 60; distance of 0.032943288884196065\n",
      "Bellman iteration 61; distance of 0.030977068609676195\n",
      "Bellman iteration 62; distance of 0.029573085186431314\n",
      "Bellman iteration 63; distance of 0.027832358722347905\n",
      "Bellman iteration 64; distance of 0.026535108905017424\n",
      "Bellman iteration 65; distance of 0.024993196765498382\n",
      "Bellman iteration 66; distance of 0.023794500946454633\n",
      "Bellman iteration 67; distance of 0.02242820883579988\n",
      "Bellman iteration 68; distance of 0.021320570025286756\n",
      "Bellman iteration 69; distance of 0.020109672427579994\n",
      "Bellman iteration 70; distance of 0.019086213574775357\n",
      "Bellman iteration 71; distance of 0.018013025978952157\n",
      "Bellman iteration 72; distance of 0.017067427187086537\n",
      "Bellman iteration 73; distance of 0.016116448009000806\n",
      "Bellman iteration 74; distance of 0.015242894309960064\n",
      "Bellman iteration 75; distance of 0.014400502098306234\n",
      "Bellman iteration 76; distance of 0.01359363848578532\n",
      "Bellman iteration 77; distance of 0.012847836343309993\n",
      "Bellman iteration 78; distance of 0.012102725764139066\n",
      "Bellman iteration 79; distance of 0.01144292533293445\n",
      "Bellman iteration 80; distance of 0.010755010540366428\n",
      "Bellman iteration 81; distance of 0.010171848239810544\n",
      "Bellman iteration 82; distance of 0.009536918319044574\n",
      "Bellman iteration 83; distance of 0.009022098301997517\n",
      "Bellman iteration 84; distance of 0.00843625888022359\n",
      "Bellman iteration 85; distance of 0.007982418523136303\n",
      "Bellman iteration 86; distance of 0.007442064903413481\n",
      "Bellman iteration 87; distance of 0.007042659322916478\n",
      "Bellman iteration 88; distance of 0.006544452220982322\n",
      "Bellman iteration 89; distance of 0.006193654838638096\n",
      "Bellman iteration 90; distance of 0.005734498497760754\n",
      "Bellman iteration 91; distance of 0.005427115156974693\n",
      "Bellman iteration 92; distance of 0.00500413763240104\n",
      "Bellman iteration 93; distance of 0.004735532196948\n",
      "Bellman iteration 94; distance of 0.004346067585496272\n",
      "Bellman iteration 95; distance of 0.004112097305309703\n",
      "Bellman iteration 96; distance of 0.003840753081222781\n",
      "Bellman iteration 97; distance of 0.0036871334574541947\n",
      "Bellman iteration 98; distance of 0.0036769719085607555\n",
      "Bellman iteration 99; distance of 0.0035299023734178814\n",
      "Bellman iteration 100; distance of 0.003520870234911877\n",
      "Newton iteration 1; distance of 0.08274643622406574\n",
      "Newton iteration 2; distance of 0.0007551024369032433\n",
      "Newton iteration 3; distance of 1.8612326080358343e-7\n",
      "Newton iteration 4; distance of 6.217248937900877e-14\n",
      "  1.107649 seconds (1.58 M allocations: 1.262 GiB, 7.39% gc time)\n"
     ]
    },
    {
     "data": {
      "text/plain": [
       "Void"
      ]
     },
     "execution_count": 68,
     "metadata": {},
     "output_type": "execute_result"
    }
   ],
   "source": [
    "h = Household()\n",
    "@time vfi!(h; Nbell=100)"
   ]
  },
  {
   "cell_type": "code",
   "execution_count": null,
   "metadata": {
    "collapsed": true
   },
   "outputs": [],
   "source": []
  }
 ],
 "metadata": {
  "kernelspec": {
   "display_name": "Julia 0.6.0",
   "language": "julia",
   "name": "julia-0.6"
  },
  "language_info": {
   "file_extension": ".jl",
   "mimetype": "application/julia",
   "name": "julia",
   "version": "0.6.0"
  }
 },
 "nbformat": 4,
 "nbformat_minor": 2
}
