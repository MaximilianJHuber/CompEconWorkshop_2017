{
 "cells": [
  {
   "cell_type": "markdown",
   "metadata": {},
   "source": [
    "# Solving an Income Fluctuation Problem with Collocation\n",
    "\n",
    "Victoria Gregory\n",
    "\n",
    "July 13, 2017\n",
    "\n",
    "\\begin{align*}\n",
    "V(a, y) = \\max_{c, a'} u(c) + \\beta \\displaystyle \\sum_{y' \\in Y} \\pi(y, y') V(a', y') \n",
    "\\end{align*}\n",
    "subject to:\n",
    "\\begin{align*}\n",
    "c + a' &= (1+r)a + y \\\\\n",
    "a' &\\geq 0\n",
    "\\end{align*}\n",
    "\n",
    "Let the utility be function be log: $u(c) = \\log(c)$\n",
    "\n",
    "Let income, $y$, take on two values $[0.5 \\hspace{1mm} 1.5]'$ with transition matrix \n",
    "$\\pi(y, y') = \\begin{bmatrix}\n",
    "0.67 & 0.33 \\\\\n",
    "0.33 & 0.67\n",
    "\\end{bmatrix}$"
   ]
  },
  {
   "cell_type": "code",
   "execution_count": 37,
   "metadata": {
    "collapsed": false
   },
   "outputs": [
    {
     "data": {
      "text/plain": [
       "Plots.PlotlyJSBackend()"
      ]
     },
     "execution_count": 37,
     "metadata": {},
     "output_type": "execute_result"
    }
   ],
   "source": [
    "using QuantEcon\n",
    "using BasisMatrices\n",
    "using Plots\n",
    "plotlyjs()"
   ]
  },
  {
   "cell_type": "markdown",
   "metadata": {},
   "source": [
    "Define and set up the type that defines the household's problem."
   ]
  },
  {
   "cell_type": "code",
   "execution_count": 38,
   "metadata": {
    "collapsed": false
   },
   "outputs": [
    {
     "name": "stderr",
     "output_type": "stream",
     "text": [
      "WARNING: Method definition (::Type{Main.Household})(Float64, Float64, QuantEcon.MarkovChain{Float64, Array{Float64, 2}, Array{Float64, 1}}, Float64, Float64, Int64, Float64, Int64, Array{Float64, 1}, Array{Float64, 1}, Array{Float64, 2}, Int64, Int64, Int64, BasisMatrices.Basis, BasisMatrices.BasisMatrix, Base.SparseArrays.SparseMatrixCSC, Base.SparseArrays.SparseMatrixCSC, Base.SparseArrays.SparseMatrixCSC, Array{Float64, 1}, Array{Float64, 1}, Array{Float64, 1}) in module Main at In[29]:4 overwritten at In[38]:4.\n",
      "WARNING: Method definition (::Type{Main.Household})(Any, Any, Any, Any, Any, Any, Any, Any, Any, Any, Any, Any, Any, Any, Any, Any, Any, Any, Any, Any, Any, Any) in module Main at In[29]:4 overwritten at In[38]:4.\n",
      "WARNING: Method definition (::Type{Main.Household})() in module Main at In[29]:39 overwritten at In[38]:39.\n",
      "WARNING: Method definition Type(Array{Any, 1}, Type{Main.Household}) in module Main overwritten.\n"
     ]
    },
    {
     "data": {
      "text/plain": [
       "Household"
      ]
     },
     "execution_count": 38,
     "metadata": {},
     "output_type": "execute_result"
    }
   ],
   "source": [
    "type Household\n",
    "\n",
    "    # User-inputted\n",
    "    r::Float64              # interest rate\n",
    "    β::Float64              # discount rate\n",
    "    y_chain::MarkovChain{Float64, Matrix{Float64}, Vector{Float64}}     # Markov chain for income\n",
    "    amin::Float64           # lower bound on asset grid\n",
    "    amax::Float64           # upper bound on asset grid\n",
    "    asize::Int64            # number of points on asset grid\n",
    "    curv::Float64           # curvature of asset grid\n",
    "    order::Int64            # order of splines \n",
    "\n",
    "    # Generated in constructor\n",
    "    ygrid::Vector{Float64}  # income grid\n",
    "    agrid::Vector{Float64}  # asset grid\n",
    "    s::Matrix{Float64}      # full state space\n",
    "    Ny::Int64               # number of points on income grid\n",
    "    Na::Int64               # final number of points on asset grid\n",
    "    Ns::Int64               # number of points on state space\n",
    "    basis::Basis            # main Basis type\n",
    "    bs::BasisMatrix         # main basis matrix (Direct)\n",
    "    Φ::SparseMatrixCSC      # main basis matric (Expanded)\n",
    "    Emat::SparseMatrixCSC   # transition matrix times basis matrix\n",
    "    Φy::SparseMatrixCSC     # income part of the basis matrix\n",
    "\n",
    "    # Solution\n",
    "    c1::Vector{Float64}     # coefficients on value function\n",
    "    c2::Vector{Float64}     # coefficients on expected value function\n",
    "    ap::Vector{Float64}     # asset policy function\n",
    "\n",
    "end\n",
    "\n",
    "function Household(;r::Float64=0.03, β::Float64=0.96,\n",
    "                   y_chain::MarkovChain{Float64,Matrix{Float64},Vector{Float64}}=MarkovChain([0.67 0.33; 0.33 0.67], [0.5; 1.5]), \n",
    "                   amin::Float64=1e-10, amax::Float64=20.0, asize::Int64=100,\n",
    "                   curv::Float64=0.4, order::Int64=3)\n",
    "\n",
    "    # State space for idiosyncratic shocks\n",
    "    Π = y_chain.p\n",
    "    ygrid0 = y_chain.state_values\n",
    "\n",
    "    # State space for assets (endogenous)\n",
    "    agrid0 = linspace(amin^curv, amax^curv, asize).^(1/curv)\n",
    "\n",
    "    # Define the basis over the state variables\n",
    "    basis = Basis(SplineParams(agrid0, 0, order),\n",
    "                  LinParams(ygrid0, 0))\n",
    "    s, (agrid, ygrid) = nodes(basis)\n",
    "    Ns, Na, Ny = size(s, 1), size(agrid, 1), size(ygrid, 1)\n",
    "\n",
    "    # Compute the basis matrix and expectations matrix\n",
    "    bs = BasisMatrix(basis, Direct(), s, [0 0])\n",
    "    Φ = convert(Expanded, bs).vals[1]\n",
    "    Emat = kron(Π, speye(Na))*Φ\n",
    "\n",
    "    # Save just the y part of the interpolation\n",
    "    Φy = bs.vals[2] \n",
    "\n",
    "    # Initial guess for coefficients on value and expected value function\n",
    "    c1 = zeros(Ns, )\n",
    "    c2 = zeros(Ns, )\n",
    "\n",
    "    # Placeholder for policy function\n",
    "    ap = zeros(Ns, )\n",
    "    \n",
    "    return Household(r, β, y_chain, amin, amax, asize, curv, order, \n",
    "    ygrid, agrid, s, Ny, Na, Ns, basis, bs, Φ, Emat, Φy, c1, c2, ap)\n",
    "\n",
    "end\n"
   ]
  },
  {
   "cell_type": "markdown",
   "metadata": {},
   "source": [
    "Given the state space, `s`, and the current policy function, `ap`, the following functions compute utility and the entire right-hand side of the Bellman equation."
   ]
  },
  {
   "cell_type": "code",
   "execution_count": 39,
   "metadata": {
    "collapsed": false
   },
   "outputs": [
    {
     "name": "stderr",
     "output_type": "stream",
     "text": [
      "WARNING: Method definition utility(Main.Household, Array{Float64, 2}, Array{Float64, 1}) in module Main at In[30]:3 overwritten at In[39]:3.\n",
      "WARNING: Method definition value(Main.Household, Array{Float64, 2}, Array{Float64, 1}) in module Main at In[30]:20 overwritten at In[39]:20.\n",
      "WARNING: Method definition #value(Array{Any, 1}, Main.#value, Main.Household, Array{Float64, 2}, Array{Float64, 1}) in module Main overwritten.\n"
     ]
    },
    {
     "data": {
      "text/plain": [
       "value (generic function with 1 method)"
      ]
     },
     "execution_count": 39,
     "metadata": {},
     "output_type": "execute_result"
    }
   ],
   "source": [
    "function utility(h::Household, s::Matrix{Float64}, ap::Vector{Float64})\n",
    "\n",
    "    c = (1 + h.r).*s[:, 1] + s[:, 2] - ap\n",
    "    u = zeros(c)\n",
    "    for cc=1:length(c)\n",
    "        if c[cc] <= 0\n",
    "            u[cc] = -10000000\n",
    "        else\n",
    "            u[cc] = log(c[cc])\n",
    "        end\n",
    "    end\n",
    "    return u\n",
    "\n",
    "end\n",
    "\n",
    "function value(h::Household, s::Matrix{Float64}, \n",
    "               ap::Vector{Float64}; other_pols::Bool=true)\n",
    "\n",
    "    # Compute flow payoff\n",
    "    u = utility(h, s, ap)\n",
    "\n",
    "    # Basis matrix for continuation value\n",
    "    bs_a = BasisMatrix(h.basis[1], Direct(), ap, 0)\n",
    "    Φa = bs_a.vals[1]\n",
    "    Φapy = row_kron(h.Φy, Φa)\n",
    "\n",
    "    # Compute value\n",
    "    v1 = u + h.β*Φapy*h.c2\n",
    "\n",
    "    if other_pols\n",
    "        return v1, Φapy\n",
    "    else\n",
    "        return v1\n",
    "    end\n",
    "\n",
    "end"
   ]
  },
  {
   "cell_type": "markdown",
   "metadata": {},
   "source": [
    "Solve for the optimal policy and compute both the value function and the expected value function, as well as the Jacobian."
   ]
  },
  {
   "cell_type": "code",
   "execution_count": 40,
   "metadata": {
    "collapsed": false
   },
   "outputs": [
    {
     "name": "stderr",
     "output_type": "stream",
     "text": [
      "WARNING: Method definition opt_value(Main.Household, Array{Float64, 2}) in module Main at In[31]:4 overwritten at In[40]:4.\n",
      "WARNING: Method definition #opt_value(Array{Any, 1}, Main.#opt_value, Main.Household, Array{Float64, 2}) in module Main overwritten.\n"
     ]
    },
    {
     "data": {
      "text/plain": [
       "opt_value (generic function with 1 method)"
      ]
     },
     "execution_count": 40,
     "metadata": {},
     "output_type": "execute_result"
    }
   ],
   "source": [
    "function opt_value(h::Household, s::Matrix{Float64}; compute_jac::Bool=false)\n",
    "\n",
    "    # Solve maximization problem\n",
    "    lower_bound = zeros(size(s, 1), )\n",
    "    upper_bound = (1 + h.r).*s[:, 1] + s[:, 2]\n",
    "    f(ap::Vector{Float64}) = value(h, s, ap; other_pols=false)\n",
    "    ap, v1 = golden_method(f, lower_bound, upper_bound)\n",
    "    v1, Φapy = value(h, s, ap; other_pols=true)\n",
    "\n",
    "    # Compute expected value function\n",
    "    v2 = h.Emat*h.c1\n",
    "\n",
    "    jac = []\n",
    "    if compute_jac\n",
    "        jac = [h.Φ -h.β*Φapy; -h.Emat h.Φ]\n",
    "    end\n",
    "\n",
    "    return v1, v2, ap, Φapy, jac\n",
    "\n",
    "end"
   ]
  },
  {
   "cell_type": "markdown",
   "metadata": {},
   "source": [
    "The rest of the functions implement the Bellman iterations and the Newton iterations."
   ]
  },
  {
   "cell_type": "code",
   "execution_count": 41,
   "metadata": {
    "collapsed": false
   },
   "outputs": [
    {
     "name": "stderr",
     "output_type": "stream",
     "text": [
      "WARNING: Method definition bellman_update!(Main.Household) in module Main at In[32]:7 overwritten at In[41]:7.\n",
      "\u001b[1m\u001b[31mWARNING: replacing docs for 'bellman_update! :: Tuple{Household}' in module 'Main'.\u001b[0m\n",
      "WARNING: Method definition newton_update!(Main.Household) in module Main at In[32]:27 overwritten at In[41]:27.\n",
      "\u001b[1m\u001b[31mWARNING: replacing docs for 'newton_update! :: Tuple{Household}' in module 'Main'.\u001b[0m\n",
      "WARNING: Method definition vfi!(Main.Household) in module Main at In[32]:48 overwritten at In[41]:48.\n",
      "WARNING: Method definition #vfi!(Array{Any, 1}, Main.#vfi!, Main.Household) in module Main overwritten.\n",
      "\u001b[1m\u001b[31mWARNING: replacing docs for 'vfi! :: Tuple{Household}' in module 'Main'.\u001b[0m\n"
     ]
    },
    {
     "data": {
      "text/plain": [
       "vfi!"
      ]
     },
     "execution_count": 41,
     "metadata": {},
     "output_type": "execute_result"
    }
   ],
   "source": [
    "\"\"\"\n",
    "One iteration on the Bellman equation\n",
    "\"\"\"\n",
    "function bellman_update!(h::Household)\n",
    "\n",
    "    # Compute values\n",
    "    s = h.s\n",
    "    v1, v2, ap = opt_value(h, s)\n",
    "\n",
    "    # Update coefficients\n",
    "    c1 = h.Φ\\v1\n",
    "    c2 = h.Φ\\v2\n",
    "    h.c1 = c1\n",
    "    h.c2 = c2\n",
    "    h.ap = ap\n",
    "\n",
    "    Void\n",
    "\n",
    "end\n",
    "\n",
    "\"\"\"\n",
    "One Newton iteration on the problem.\n",
    "\"\"\"\n",
    "function newton_update!(h::Household)\n",
    "\n",
    "  # Compute values\n",
    "  s = h.s\n",
    "  v1, v2, ap, Φapy, jac = opt_value(h, s; compute_jac=true)\n",
    "\n",
    "  # Update coefficients\n",
    "  cold = [h.c1; h.c2]\n",
    "  c = cold - jac\\([h.Φ*h.c1 - v1; h.Φ*h.c2 - v2])\n",
    "  h.c1 = c[1:h.Ns]\n",
    "  h.c2 = c[h.Ns+1:2*h.Ns]\n",
    "  h.ap = ap\n",
    "\n",
    "  Void\n",
    "\n",
    "end\n",
    "\n",
    "\"\"\"\n",
    "Solve the problem via VFI\n",
    "\"\"\"\n",
    "function vfi!(h::Household; tol::Float64=1e-8, print::Bool=true, \n",
    "              Nbell::Int64=3, Nnewt::Int64=50)\n",
    "\n",
    "    # Bellman iterations: set number of times\n",
    "    i = 0\n",
    "    dc = 1\n",
    "    while dc > tol && i < Nbell\n",
    "        i = i + 1\n",
    "        c_old = [h.c1; h.c2]\n",
    "        bellman_update!(h)\n",
    "        c_new = [h.c1; h.c2]\n",
    "        dc = maxabs(c_new - c_old)\n",
    "        if print\n",
    "            println(\"Bellman iteration $(i); distance of $(dc)\")\n",
    "        end\n",
    "    end\n",
    "\n",
    "    # Newton iterations: until convergence\n",
    "    i = 0\n",
    "    while i < Nnewt && dc > tol\n",
    "        i = i + 1\n",
    "        cold = [h.c1; h.c2]\n",
    "        newton_update!(h)\n",
    "        cnew = [h.c1; h.c2]\n",
    "        dc = maxabs(cnew - cold)\n",
    "        if print\n",
    "            println(\"Newton iteration $(i); distance of $(dc)\")\n",
    "        end\n",
    "    end\n",
    "\n",
    "    Void\n",
    "\n",
    "end"
   ]
  },
  {
   "cell_type": "markdown",
   "metadata": {},
   "source": [
    "Finally, a function to create some simple plots of the decision rules."
   ]
  },
  {
   "cell_type": "code",
   "execution_count": 42,
   "metadata": {
    "collapsed": false
   },
   "outputs": [
    {
     "name": "stderr",
     "output_type": "stream",
     "text": [
      "WARNING: Method definition plot_policies(Main.Household) in module Main at In[33]:3 overwritten at In[42]:3.\n"
     ]
    },
    {
     "data": {
      "text/plain": [
       "plot_policies (generic function with 1 method)"
      ]
     },
     "execution_count": 42,
     "metadata": {},
     "output_type": "execute_result"
    }
   ],
   "source": [
    "function plot_policies(h::Household)\n",
    "\n",
    "    ap = reshape(h.ap, h.Na, h.Ny)\n",
    "    c = (1 + h.r).*h.s[:, 1] + h.s[:, 2] - h.ap\n",
    "    c = reshape(c, h.Na, h.Ny)\n",
    "\n",
    "    labs = reshape([\"Low Income\", \"High Income\"], 1, h.Ny)\n",
    "    plt_a = plot(h.agrid, ap, label=labs, title=\"Assets Tomorrow\")\n",
    "    plt_c = plot(h.agrid, c, label=labs, title=\"Consumption\")\n",
    "    plt = plot(plt_a, plt_c, layout=(1, 2), lw=2, \n",
    "               xlabel=\"Assets Today\", size=(900, 500))\n",
    "    return plt\n",
    "\n",
    "end"
   ]
  },
  {
   "cell_type": "markdown",
   "metadata": {},
   "source": [
    "Let's see how the code works. Below, I create an instance of the `Household` type with the default parameters, solve the problem, and plot the resulting policy functions."
   ]
  },
  {
   "cell_type": "code",
   "execution_count": 43,
   "metadata": {
    "collapsed": false
   },
   "outputs": [
    {
     "name": "stdout",
     "output_type": "stream",
     "text": [
      "Bellman iteration 1; distance of 3.095577608523707\n",
      "Bellman iteration 2; distance of 3.0802971010699505\n",
      "Bellman iteration 3; distance of 1.7394219214891282\n",
      "Newton iteration 1; distance of 2.3575470852641676\n",
      "Newton iteration 2; distance of 4.703222487804352\n",
      "Newton iteration 3; distance of 2.32861682515691\n",
      "Newton iteration 4; distance of 0.4805637796459674\n",
      "Newton iteration 5; distance of 0.018374462486137944\n",
      "Newton iteration 6; distance of 2.4239809802040213e-5\n",
      "Newton iteration 7; distance of 7.622347197866475e-11\n",
      "  0.427676 seconds (142.75 k allocations: 132.525 MB, 7.25% gc time)\n"
     ]
    },
    {
     "data": {
      "text/plain": [
       "Void"
      ]
     },
     "execution_count": 43,
     "metadata": {},
     "output_type": "execute_result"
    }
   ],
   "source": [
    "h = Household()\n",
    "@time vfi!(h)"
   ]
  },
  {
   "cell_type": "code",
   "execution_count": 44,
   "metadata": {
    "collapsed": false
   },
   "outputs": [
    {
     "data": {
      "text/html": [
       "<div id=\"d4a13f1e-f3d8-44e7-b978-df2c18d49b95\" class=\"plotly-graph-div\"></div>\n",
       "\n",
       "<script>\n",
       "    window.PLOTLYENV=window.PLOTLYENV || {};\n",
       "    window.PLOTLYENV.BASE_URL=\"https://plot.ly\";\n",
       "    require(['plotly'], function(Plotly) {\n",
       "        Plotly.newPlot('d4a13f1e-f3d8-44e7-b978-df2c18d49b95', [{\"yaxis\":\"y\",\"y\":[1.1344441216012863e-15,3.026418895121892e-15,3.019349096938425e-15,8.00217234101359e-15,2.3195857284615377e-15,4.848160075854037e-15,4.8961089738999295e-15,1.788934009460714e-15,3.4697336556961696e-15,3.2289309336925956e-15,1.4219814557701244e-14,9.061296574818468e-15,2.4620794732745325e-14,0.004651462056000632,0.016423356778122577,0.029688920860281885,0.044527525100796654,0.06101101441107906,0.07914333935907637,0.10065594223191275,0.12926567071543513,0.16027882244504554,0.19382121451977144,0.230104932006492,0.2691462589444816,0.31461106889466955,0.3640201745984008,0.41667577095314506,0.4724493531224208,0.5324192870863013,0.5980135580776486,0.6676739320911174,0.741214590677868,0.8185997488746891,0.9013425149787544,0.9891177220695356,1.0809408233699325,1.1771385111766772,1.278522903835783,1.3851985685801769,1.4963442714317812,1.6121695191484748,1.7334452885916816,1.85995502077965,1.991260506997831,2.1276849999944316,2.26971362093216,2.4169498164636836,2.5693280446404194,2.727250968832424,2.890754090232637,3.059586376912664,3.233992047280821,3.4141216517251753,3.5998257119657864,3.791206628665676,3.9884182733883984,4.1913869271377555,4.400186542819492,4.614924256156153,4.835571277825323,5.062205842098498,5.294893863378914,5.533636350314563,5.778512777916298,6.029561786343858,6.286810236506757,6.550327399620812,6.820140611591143,7.096295834786454,7.3788454507920305,7.667820508394993,7.963272705314861,8.265242081785315,8.573768887295794,8.888899671532466,9.210672366691043,9.539131246614735,9.874316877357204,10.216270406554441,10.565033653015565,10.920646519983459,11.283150394517424,11.652585223027785,12.028991158308514,12.412408591930728,12.80287666716847,13.2004356603388,13.60512433035001,14.016982167442446,14.436048018216699,14.862360649143557,15.295958558601669,15.73688042214522,16.185164074741635,16.64084759383283,17.103969183916295,17.57456598540488,18.052675793803875,18.538335863908607,18.864650766491927,19.02907281825862],\"showlegend\":true,\"name\":\"Low Income\",\"type\":\"scatter\",\"xaxis\":\"x\",\"line\":{\"width\":2,\"dash\":\"solid\",\"color\":\"rgba(0, 154, 250, 1.000)\",\"shape\":\"linear\"},\"colorbar\":{\"title\":\"\"},\"x\":[9.999999999999987e-11,6.886946113163167e-5,0.00045700489245854983,0.0015252517299934791,0.0036479175204330804,0.007086808242499107,0.012053967573591633,0.018733916883653796,0.027292525655542018,0.03788184769706629,0.05064313944055152,0.06570890439611814,0.08320435793795723,0.10324852103762672,0.12595506336113724,0.15143296986973817,0.1797870789213939,0.2111185242240067,0.2455251031818025,0.2831015877849563,0.3239399898914819,0.368129789774909,0.41575813470297845,0.466910012787176,0.5216684062186844,0.580114427164034,0.6423274389533217,0.7083851647004499,0.7783637851100839,0.8523380269227113,0.9303812432076466,1.012565486519742,1.0989615757782438,1.1896391575977525,1.2846667626955182,1.3841118579117324,1.4880408943064751,1.5965193517357779,1.7096117802576398,1.8273818386751135,1.9498923304863165,2.0772052374793595,2.209381751182812,2.3464823023586683,2.4885665887043573,2.635693600912495,2.7879216472216313,2.9453083765775645,3.1079108005129776,3.275785313842524,3.448987714261335,3.627573220926614,3.811596492094703,4.001111641879564,4.196172256192715,4.396831407919616,4.6031416713826685,4.815155136137032,5.0329234201414765,5.256497682343304,5.485928634713114,5.721266553762618,5.962561291575952,6.2098622863829105,6.463218572700204,6.722678791065135,6.988291197384176,7.260103671917577,7.538163727919387,7.822518519951312,8.113214851887136,8.410299184623918,8.71381764351444,9.023816025535135,9.340339806202223,9.663434146248505,9.99314389807204,10.329513611967636,10.672587542151177,11.022409652586333,11.379023622622574,11.742472852452996,12.112800468399882,12.490049328035468,12.874262025145185,13.265480894539868,13.663748016723426,14.069105222421967,14.48159409697998,14.901255984629168,15.328131992634686,15.762262995324155,16.203689638003556,16.65245234076474,17.108591302188454,17.572146502947117,18.04315770931093,18.52166447656083,19.00770615231208,19.50132187975123,19.8329280643995,20.0],\"mode\":\"lines\"},{\"yaxis\":\"y\",\"y\":[0.5672632279117283,0.5673231177413128,0.5676606521944505,0.5685898752316771,0.5704373137846542,0.5734332058455069,0.5777668390721982,0.5836021167162557,0.5910782553967198,0.600327433222932,0.6114725022487232,0.6246285111432994,0.639904032808311,0.6574146720191582,0.6772830567486227,0.699618230187885,0.7245182118901214,0.7520525986286081,0.7823144496648797,0.8155125845456042,0.8518481221918908,0.8914061667329666,0.9342594531955102,0.980379607176015,1.0297552830244843,1.0825025821599337,1.1387493813914533,1.1986834341529076,1.262553855158428,1.330485787329724,1.4022882902912674,1.4779634106429163,1.557609545493103,1.6414229994991347,1.7296969692883875,1.8223805081927325,1.9194057440133765,2.0207888157267613,2.126715345443335,2.237410423031971,2.352824132121349,2.472928999677303,2.597819201406436,2.7276590242076875,2.8625192197264053,3.0023498466013083,3.147241247038123,3.2973211559008497,3.4526239903707894,3.6131660147025073,3.7790268257222603,3.950299293436195,4.127005533393461,4.30918699085883,4.4969365239893095,4.690292629026618,4.88929135653886,5.094009358958,5.304492277533639,5.520780205721769,5.742936467267392,5.97100934813462,6.205041560076109,6.445088744811392,6.691199637080702,6.943417003213277,7.201793683814032,7.466375636642304,7.737206785400268,8.014337563541947,8.297811239138744,8.587673508907162,8.883970846757837,9.186746204662272,9.496045575143464,9.81191201129606,10.134389306645762,10.463521209748317,10.799350382372383,11.141919727342957,11.491271612168381,11.8474480704826,12.210491085812993,12.580442125603154,12.957342461196314,13.34123309298234,13.732154807560153,14.130147822565755,14.535252758864052,14.947509431299217,15.366957470200205,15.7936366026046,16.22758592567454,16.66884461470038,17.11745147176684,17.5734449148596,18.03686391032123,18.50774612430356,18.986129628399606,19.47205231901224,19.798536006006348,19.963040421646593],\"showlegend\":true,\"name\":\"High Income\",\"type\":\"scatter\",\"xaxis\":\"x\",\"line\":{\"width\":2,\"dash\":\"solid\",\"color\":\"rgba(227, 111, 71, 1.000)\",\"shape\":\"linear\"},\"colorbar\":{\"title\":\"\"},\"x\":[9.999999999999987e-11,6.886946113163167e-5,0.00045700489245854983,0.0015252517299934791,0.0036479175204330804,0.007086808242499107,0.012053967573591633,0.018733916883653796,0.027292525655542018,0.03788184769706629,0.05064313944055152,0.06570890439611814,0.08320435793795723,0.10324852103762672,0.12595506336113724,0.15143296986973817,0.1797870789213939,0.2111185242240067,0.2455251031818025,0.2831015877849563,0.3239399898914819,0.368129789774909,0.41575813470297845,0.466910012787176,0.5216684062186844,0.580114427164034,0.6423274389533217,0.7083851647004499,0.7783637851100839,0.8523380269227113,0.9303812432076466,1.012565486519742,1.0989615757782438,1.1896391575977525,1.2846667626955182,1.3841118579117324,1.4880408943064751,1.5965193517357779,1.7096117802576398,1.8273818386751135,1.9498923304863165,2.0772052374793595,2.209381751182812,2.3464823023586683,2.4885665887043573,2.635693600912495,2.7879216472216313,2.9453083765775645,3.1079108005129776,3.275785313842524,3.448987714261335,3.627573220926614,3.811596492094703,4.001111641879564,4.196172256192715,4.396831407919616,4.6031416713826685,4.815155136137032,5.0329234201414765,5.256497682343304,5.485928634713114,5.721266553762618,5.962561291575952,6.2098622863829105,6.463218572700204,6.722678791065135,6.988291197384176,7.260103671917577,7.538163727919387,7.822518519951312,8.113214851887136,8.410299184623918,8.71381764351444,9.023816025535135,9.340339806202223,9.663434146248505,9.99314389807204,10.329513611967636,10.672587542151177,11.022409652586333,11.379023622622574,11.742472852452996,12.112800468399882,12.490049328035468,12.874262025145185,13.265480894539868,13.663748016723426,14.069105222421967,14.48159409697998,14.901255984629168,15.328131992634686,15.762262995324155,16.203689638003556,16.65245234076474,17.108591302188454,17.572146502947117,18.04315770931093,18.52166447656083,19.00770615231208,19.50132187975123,19.8329280643995,20.0],\"mode\":\"lines\"},{\"yaxis\":\"y2\",\"y\":[0.5000000001029989,0.5000709355449626,0.5004707150392294,0.5015710092818852,0.5037573550460437,0.5072994124897692,0.5124155866007944,0.5192959343901616,0.5281113014252048,0.539018303127975,0.5521624336237538,0.5676801715279925,0.5857004886760713,0.6016945146127549,0.6133103584838487,0.6262870381055484,0.6406531661882391,0.6564410655396479,0.6737475169181802,0.6909386931865923,0.7043925188727913,0.7188948610231107,0.7344096642242964,0.7508123811642993,0.7681721994607633,0.7829067910842855,0.7975770875235206,0.8129609486883185,0.8292653455409655,0.8454888806440916,0.8602791224262275,0.8752685190242169,0.8907158323737232,0.906728583450996,0.9218642505976293,0.9365174915795488,0.9517412977657369,0.967276421111174,0.9823772298295859,0.9970047252551903,1.0120448289691248,1.0273518754552653,1.0422179151266147,1.0569217506497786,1.071963079367657,1.0870794089454385,1.1018456757061204,1.116717811411208,1.1318200798879476,1.1468079044253758,1.1617032554565383,1.176814040641748,1.1919523395767238,1.207023339410775,1.2222317119127104,1.237529721491529,1.2528176481357507,1.2682228630833876,1.2837245799262291,1.2992683566574499,1.3149352159291858,1.3306987082769988,1.3465442669443162,1.3625218046598349,1.378602351964913,1.394797368453232,1.4111296967989437,1.427579382454292,1.4441680281658256,1.460898240763398,1.47776584665172,1.494787651767643,1.5119594675050134,1.5292884245158742,1.5467811130924964,1.5644374991034962,1.5822658483231589,1.6002677737119306,1.6184482910585096,1.636811535609482,1.6553606782856871,1.6741005180431277,1.6930340879344552,1.7121655848487478,1.7314987275910276,1.751036729445337,1.7707837900566599,1.790742718755828,1.81091758953937,1.831311496725597,1.851927934197029,1.8727702360403242,1.8938417685419964,1.9151454888424624,1.9366849665124732,1.9584633042026987,1.9804832566739634,2.002748425452772,2.0252615430775656,2.0480256722351626,2.063265139839558,2.070927181741382],\"showlegend\":true,\"name\":\"Low Income\",\"type\":\"scatter\",\"xaxis\":\"x2\",\"line\":{\"width\":2,\"dash\":\"solid\",\"color\":\"rgba(0, 154, 250, 1.000)\",\"shape\":\"linear\"},\"colorbar\":{\"title\":\"\"},\"x\":[9.999999999999987e-11,6.886946113163167e-5,0.00045700489245854983,0.0015252517299934791,0.0036479175204330804,0.007086808242499107,0.012053967573591633,0.018733916883653796,0.027292525655542018,0.03788184769706629,0.05064313944055152,0.06570890439611814,0.08320435793795723,0.10324852103762672,0.12595506336113724,0.15143296986973817,0.1797870789213939,0.2111185242240067,0.2455251031818025,0.2831015877849563,0.3239399898914819,0.368129789774909,0.41575813470297845,0.466910012787176,0.5216684062186844,0.580114427164034,0.6423274389533217,0.7083851647004499,0.7783637851100839,0.8523380269227113,0.9303812432076466,1.012565486519742,1.0989615757782438,1.1896391575977525,1.2846667626955182,1.3841118579117324,1.4880408943064751,1.5965193517357779,1.7096117802576398,1.8273818386751135,1.9498923304863165,2.0772052374793595,2.209381751182812,2.3464823023586683,2.4885665887043573,2.635693600912495,2.7879216472216313,2.9453083765775645,3.1079108005129776,3.275785313842524,3.448987714261335,3.627573220926614,3.811596492094703,4.001111641879564,4.196172256192715,4.396831407919616,4.6031416713826685,4.815155136137032,5.0329234201414765,5.256497682343304,5.485928634713114,5.721266553762618,5.962561291575952,6.2098622863829105,6.463218572700204,6.722678791065135,6.988291197384176,7.260103671917577,7.538163727919387,7.822518519951312,8.113214851887136,8.410299184623918,8.71381764351444,9.023816025535135,9.340339806202223,9.663434146248505,9.99314389807204,10.329513611967636,10.672587542151177,11.022409652586333,11.379023622622574,11.742472852452996,12.112800468399882,12.490049328035468,12.874262025145185,13.265480894539868,13.663748016723426,14.069105222421967,14.48159409697998,14.901255984629168,15.328131992634686,15.762262995324155,16.203689638003556,16.65245234076474,17.108591302188454,17.572146502947117,18.04315770931093,18.52166447656083,19.00770615231208,19.50132187975123,19.8329280643995,20.0],\"mode\":\"lines\"},{\"yaxis\":\"y2\",\"y\":[0.9327367721912717,0.9327478178036527,0.9328100628447817,0.9329811340502161,0.9333200412613919,0.9338662066442671,0.9346487475286012,0.9356938176739076,0.9370330460284886,0.9386908699050462,0.9406899313750449,0.9430516603847023,0.9457964558677849,0.9489313046495974,0.9524506585133486,0.9563577287779452,0.9606624793989142,0.9653994813221188,0.9705764066123768,0.9760820508729009,0.9818100673963357,0.9877675167351897,0.9939714255485577,1.0005377059947764,1.0075631753807606,1.0150152778190213,1.0228478807304682,1.030953285488556,1.0391608435049582,1.0474223804006688,1.0560043902126086,1.0649790404724182,1.0743208775584883,1.0839053328265507,1.093509796287996,1.103254705456352,1.1132763771222929,1.12362611656109,1.1341847882220337,1.1447928708033963,1.155564968279557,1.166592394926437,1.1778440023118604,1.1892177472217411,1.200704366639083,1.2124145623385618,1.2243180496001567,1.2363464719740413,1.2485241341575777,1.2608928585552928,1.2734305199669151,1.286101124118217,1.298938853464083,1.3119580002771203,1.3251208998891872,1.338443721130587,1.3519445649852893,1.3656004312631431,1.379418845212082,1.3934124070918346,1.4075700264871163,1.4218952022408766,1.4363965702471218,1.4510694101630053,1.4659154928005087,1.4809421515838128,1.4961462494916686,1.5115311454327998,1.527101854356701,1.542856512007905,1.5588000583050068,1.5749346512554734,1.5912613260620372,1.607784301638917,1.624504425244826,1.6414251593399012,1.6585489083684397,1.6758778105783492,1.6934147860433306,1.7111622148209662,1.7291227191328709,1.747298967543987,1.765693396638886,1.7843086822733785,1.8031474247032282,1.8222122283937239,1.8415056496649758,1.8610305565288723,1.8807891610253282,1.9007842328688263,1.9210184822135226,1.9414942825792814,1.9622144014691258,1.9831812962873023,2.004397569487267,2.0258659831759296,2.047588530269028,2.0695682865540945,2.0918077084818343,2.114309217131531,2.1293799003251372,2.1369595783534088],\"showlegend\":true,\"name\":\"High Income\",\"type\":\"scatter\",\"xaxis\":\"x2\",\"line\":{\"width\":2,\"dash\":\"solid\",\"color\":\"rgba(227, 111, 71, 1.000)\",\"shape\":\"linear\"},\"colorbar\":{\"title\":\"\"},\"x\":[9.999999999999987e-11,6.886946113163167e-5,0.00045700489245854983,0.0015252517299934791,0.0036479175204330804,0.007086808242499107,0.012053967573591633,0.018733916883653796,0.027292525655542018,0.03788184769706629,0.05064313944055152,0.06570890439611814,0.08320435793795723,0.10324852103762672,0.12595506336113724,0.15143296986973817,0.1797870789213939,0.2111185242240067,0.2455251031818025,0.2831015877849563,0.3239399898914819,0.368129789774909,0.41575813470297845,0.466910012787176,0.5216684062186844,0.580114427164034,0.6423274389533217,0.7083851647004499,0.7783637851100839,0.8523380269227113,0.9303812432076466,1.012565486519742,1.0989615757782438,1.1896391575977525,1.2846667626955182,1.3841118579117324,1.4880408943064751,1.5965193517357779,1.7096117802576398,1.8273818386751135,1.9498923304863165,2.0772052374793595,2.209381751182812,2.3464823023586683,2.4885665887043573,2.635693600912495,2.7879216472216313,2.9453083765775645,3.1079108005129776,3.275785313842524,3.448987714261335,3.627573220926614,3.811596492094703,4.001111641879564,4.196172256192715,4.396831407919616,4.6031416713826685,4.815155136137032,5.0329234201414765,5.256497682343304,5.485928634713114,5.721266553762618,5.962561291575952,6.2098622863829105,6.463218572700204,6.722678791065135,6.988291197384176,7.260103671917577,7.538163727919387,7.822518519951312,8.113214851887136,8.410299184623918,8.71381764351444,9.023816025535135,9.340339806202223,9.663434146248505,9.99314389807204,10.329513611967636,10.672587542151177,11.022409652586333,11.379023622622574,11.742472852452996,12.112800468399882,12.490049328035468,12.874262025145185,13.265480894539868,13.663748016723426,14.069105222421967,14.48159409697998,14.901255984629168,15.328131992634686,15.762262995324155,16.203689638003556,16.65245234076474,17.108591302188454,17.572146502947117,18.04315770931093,18.52166447656083,19.00770615231208,19.50132187975123,19.8329280643995,20.0],\"mode\":\"lines\"}],\n",
       "               {\"yaxis\":{\"type\":\"-\",\"titlefont\":{\"size\":15,\"color\":\"rgba(0, 0, 0, 1.000)\",\"family\":\"sans-serif\"},\"title\":\"\",\"tickfont\":{\"size\":11,\"color\":\"rgba(0, 0, 0, 1.000)\",\"family\":\"sans-serif\"},\"ticks\":\"inside\",\"tickmode\":\"array\",\"showgrid\":true,\"tickvals\":[5.0,10.0,15.0],\"domain\":[0.060651793525809315,0.9532370953630797],\"ticktext\":[\"5\",\"10\",\"15\"],\"tickangle\":0,\"zeroline\":false,\"linecolor\":\"rgba(0, 0, 0, 1.000)\",\"tickcolor\":\"rgba(0, 0, 0, 1.000)\",\"anchor\":\"x\"},\"annotations\":[{\"text\":\"Assets Tomorrow\",\"y\":1.0,\"xref\":\"paper\",\"font\":{\"size\":20,\"color\":\"rgba(0, 0, 0, 1.000)\",\"family\":\"sans-serif\"},\"xanchor\":\"center\",\"x\":0.25740740740740736,\"yref\":\"paper\",\"showarrow\":false,\"yanchor\":\"top\",\"rotation\":-0.0},{\"text\":\"Consumption\",\"y\":1.0,\"xref\":\"paper\",\"font\":{\"size\":20,\"color\":\"rgba(0, 0, 0, 1.000)\",\"family\":\"sans-serif\"},\"xanchor\":\"center\",\"x\":0.7623456790123455,\"yref\":\"paper\",\"showarrow\":false,\"yanchor\":\"top\",\"rotation\":-0.0}],\"width\":900,\"showlegend\":true,\"legend\":{\"bgcolor\":\"rgba(255, 255, 255, 1.000)\",\"y\":1.0,\"font\":{\"size\":11,\"color\":\"rgba(0, 0, 0, 1.000)\",\"family\":\"sans-serif\"},\"bordercolor\":\"rgba(0, 0, 0, 1.000)\",\"x\":1.0},\"xaxis\":{\"type\":\"-\",\"titlefont\":{\"size\":15,\"color\":\"rgba(0, 0, 0, 1.000)\",\"family\":\"sans-serif\"},\"title\":\"Assets Today\",\"tickfont\":{\"size\":11,\"color\":\"rgba(0, 0, 0, 1.000)\",\"family\":\"sans-serif\"},\"ticks\":\"inside\",\"tickmode\":\"array\",\"showgrid\":true,\"tickvals\":[5.0,10.0,15.0,20.0],\"domain\":[0.024127539613103918,0.4906872752017109],\"ticktext\":[\"5\",\"10\",\"15\",\"20\"],\"tickangle\":0,\"zeroline\":false,\"linecolor\":\"rgba(0, 0, 0, 1.000)\",\"tickcolor\":\"rgba(0, 0, 0, 1.000)\",\"anchor\":\"y\"},\"yaxis2\":{\"type\":\"-\",\"titlefont\":{\"size\":15,\"color\":\"rgba(0, 0, 0, 1.000)\",\"family\":\"sans-serif\"},\"title\":\"\",\"tickfont\":{\"size\":11,\"color\":\"rgba(0, 0, 0, 1.000)\",\"family\":\"sans-serif\"},\"ticks\":\"inside\",\"tickmode\":\"array\",\"showgrid\":true,\"tickvals\":[1.0,1.5,2.0],\"domain\":[0.060651793525809315,0.9532370953630797],\"ticktext\":[\"1.0\",\"1.5\",\"2.0\"],\"tickangle\":0,\"zeroline\":false,\"linecolor\":\"rgba(0, 0, 0, 1.000)\",\"tickcolor\":\"rgba(0, 0, 0, 1.000)\",\"anchor\":\"x2\"},\"xaxis2\":{\"type\":\"-\",\"titlefont\":{\"size\":15,\"color\":\"rgba(0, 0, 0, 1.000)\",\"family\":\"sans-serif\"},\"title\":\"Assets Today\",\"tickfont\":{\"size\":11,\"color\":\"rgba(0, 0, 0, 1.000)\",\"family\":\"sans-serif\"},\"ticks\":\"inside\",\"tickmode\":\"array\",\"showgrid\":true,\"tickvals\":[5.0,10.0,15.0,20.0],\"domain\":[0.5290658112180421,0.995625546806649],\"ticktext\":[\"5\",\"10\",\"15\",\"20\"],\"tickangle\":0,\"zeroline\":false,\"linecolor\":\"rgba(0, 0, 0, 1.000)\",\"tickcolor\":\"rgba(0, 0, 0, 1.000)\",\"anchor\":\"y2\"},\"margin\":{\"r\":0,\"l\":0,\"b\":20,\"t\":20},\"height\":500,\"plot_bgcolor\":\"rgba(255, 255, 255, 1.000)\",\"paper_bgcolor\":\"rgba(255, 255, 255, 1.000)\"}, {showLink: false});\n",
       "\n",
       "    });\n",
       " </script>\n"
      ]
     },
     "execution_count": 44,
     "metadata": {},
     "output_type": "execute_result"
    }
   ],
   "source": [
    "plot_policies(h)"
   ]
  },
  {
   "cell_type": "code",
   "execution_count": 45,
   "metadata": {
    "collapsed": false
   },
   "outputs": [
    {
     "name": "stdout",
     "output_type": "stream",
     "text": [
      "Bellman iteration 1; distance of 3.095577608523707\n",
      "Bellman iteration 2; distance of 3.0802971010699505\n",
      "Bellman iteration 3; distance of 1.7394219214891282\n",
      "Bellman iteration 4; distance of 1.7165544892312585\n",
      "Bellman iteration 5; distance of 1.266484996028585\n",
      "Bellman iteration 6; distance of 1.2463209041193668\n",
      "Bellman iteration 7; distance of 0.9845013612649263\n",
      "Bellman iteration 8; distance of 0.9675192721951067\n",
      "Bellman iteration 9; distance of 0.7932130890268176\n",
      "Bellman iteration 10; distance of 0.7786333809924235\n",
      "Bellman iteration 11; distance of 0.6541934230114173\n",
      "Bellman iteration 12; distance of 0.6414012522037789\n",
      "Bellman iteration 13; distance of 0.548564135890075\n",
      "Bellman iteration 14; distance of 0.53717851570668\n",
      "Bellman iteration 15; distance of 0.46575526677078827\n",
      "Bellman iteration 16; distance of 0.4555355241106458\n",
      "Bellman iteration 17; distance of 0.39931331080446597\n",
      "Bellman iteration 18; distance of 0.39009261001036144\n",
      "Bellman iteration 19; distance of 0.3450393349545706\n",
      "Bellman iteration 20; distance of 0.33669105087952467\n",
      "Bellman iteration 21; distance of 0.3000662635822824\n",
      "Bellman iteration 22; distance of 0.29248796480287353\n",
      "Bellman iteration 23; distance of 0.2623607653428195\n",
      "Bellman iteration 24; distance of 0.25546655250937\n",
      "Bellman iteration 25; distance of 0.23043697987917433\n",
      "Bellman iteration 26; distance of 0.22415335375983858\n",
      "Bellman iteration 27; distance of 0.2031822426664469\n",
      "Bellman iteration 28; distance of 0.1974455784612168\n",
      "Bellman iteration 29; distance of 0.17974623480712992\n",
      "Bellman iteration 30; distance of 0.17450106880295202\n",
      "Bellman iteration 31; distance of 0.15946792217441796\n",
      "Bellman iteration 32; distance of 0.15466564936238214\n",
      "Bellman iteration 33; distance of 0.14182581870650068\n",
      "Bellman iteration 34; distance of 0.13742365373009946\n",
      "Bellman iteration 35; distance of 0.12640320405791883\n",
      "Bellman iteration 36; distance of 0.1223633417285992\n",
      "Bellman iteration 37; distance of 0.11286328298213633\n",
      "Bellman iteration 38; distance of 0.1091522059239729\n",
      "Bellman iteration 39; distance of 0.10093111342772332\n",
      "Bellman iteration 40; distance of 0.0975190111488633\n",
      "Bellman iteration 41; distance of 0.09038021708280297\n",
      "Bellman iteration 42; distance of 0.08724049790458466\n",
      "Bellman iteration 43; distance of 0.08102251441650843\n",
      "Bellman iteration 44; distance of 0.07813139174263206\n",
      "Bellman iteration 45; distance of 0.07270065992202213\n",
      "Bellman iteration 46; distance of 0.07003680023954928\n",
      "Bellman iteration 47; distance of 0.0652821302928075\n",
      "Bellman iteration 48; distance of 0.06282635125643665\n",
      "Bellman iteration 49; distance of 0.0586546048140395\n",
      "Bellman iteration 50; distance of 0.05638955653269839\n",
      "Bellman iteration 51; distance of 0.052722271414141986\n",
      "Bellman iteration 52; distance of 0.05063227595728037\n",
      "Bellman iteration 53; distance of 0.04740303645763255\n",
      "Bellman iteration 54; distance of 0.04547387173114714\n",
      "Bellman iteration 55; distance of 0.04262618028794485\n",
      "Bellman iteration 56; distance of 0.040844927488846494\n",
      "Bellman iteration 57; distance of 0.03833052971145712\n",
      "Bellman iteration 58; distance of 0.03668543322426743\n",
      "Bellman iteration 59; distance of 0.03446293830884706\n",
      "Bellman iteration 60; distance of 0.032943288884196065\n",
      "Bellman iteration 61; distance of 0.030977068609679748\n",
      "Bellman iteration 62; distance of 0.029573085186434867\n",
      "Bellman iteration 63; distance of 0.027832358722342576\n",
      "Bellman iteration 64; distance of 0.026535108905012095\n",
      "Bellman iteration 65; distance of 0.02499319676550016\n",
      "Bellman iteration 66; distance of 0.023794500946454633\n",
      "Bellman iteration 67; distance of 0.022428208835798102\n",
      "Bellman iteration 68; distance of 0.021320570025286756\n",
      "Bellman iteration 69; distance of 0.020109672427578218\n",
      "Bellman iteration 70; distance of 0.019086213574775357\n",
      "Bellman iteration 71; distance of 0.01801302597895571\n",
      "Bellman iteration 72; distance of 0.017067427187086537\n",
      "Bellman iteration 73; distance of 0.016116448009002582\n",
      "Bellman iteration 74; distance of 0.015242894309963617\n",
      "Bellman iteration 75; distance of 0.014400502098304457\n",
      "Bellman iteration 76; distance of 0.013593638485783544\n",
      "Bellman iteration 77; distance of 0.012847836343308217\n",
      "Bellman iteration 78; distance of 0.01210272576413729\n",
      "Bellman iteration 79; distance of 0.011442925332930898\n",
      "Bellman iteration 80; distance of 0.010755010540362875\n",
      "Bellman iteration 81; distance of 0.01017184823981232\n",
      "Bellman iteration 82; distance of 0.009536918319044574\n",
      "Bellman iteration 83; distance of 0.009022098301999293\n",
      "Bellman iteration 84; distance of 0.008436258880227143\n",
      "Bellman iteration 85; distance of 0.00798241852313808\n",
      "Bellman iteration 86; distance of 0.0074420649034152575\n",
      "Bellman iteration 87; distance of 0.007042659322914702\n",
      "Bellman iteration 88; distance of 0.006544452220982322\n",
      "Bellman iteration 89; distance of 0.006193654838634544\n",
      "Bellman iteration 90; distance of 0.005734498497755425\n",
      "Bellman iteration 91; distance of 0.005427115156971141\n",
      "Bellman iteration 92; distance of 0.005004137632399264\n",
      "Bellman iteration 93; distance of 0.004735532196951553\n",
      "Bellman iteration 94; distance of 0.004346067585499824\n",
      "Bellman iteration 95; distance of 0.004112097305307927\n",
      "Bellman iteration 96; distance of 0.003840753081223003\n",
      "Bellman iteration 97; distance of 0.0036871334574539727\n",
      "Bellman iteration 98; distance of 0.0036769719085607555\n",
      "Bellman iteration 99; distance of 0.0035299023734185475\n",
      "Bellman iteration 100; distance of 0.003520870234912099\n",
      "Newton iteration 1; distance of 0.08274643620276945\n",
      "Newton iteration 2; distance of 0.0007551017531230997\n",
      "Newton iteration 3; distance of 1.8609430796345805e-7\n",
      "Newton iteration 4; distance of 4.085620730620576e-14\n",
      "  1.348507 seconds (771.23 k allocations: 1.263 GB, 21.10% gc time)\n"
     ]
    },
    {
     "data": {
      "text/plain": [
       "Void"
      ]
     },
     "execution_count": 45,
     "metadata": {},
     "output_type": "execute_result"
    }
   ],
   "source": [
    "h = Household()\n",
    "@time vfi!(h; Nbell=100)"
   ]
  },
  {
   "cell_type": "code",
   "execution_count": null,
   "metadata": {
    "collapsed": true
   },
   "outputs": [],
   "source": []
  }
 ],
 "metadata": {
  "kernelspec": {
   "display_name": "Julia 0.5.2",
   "language": "julia",
   "name": "julia-0.5"
  },
  "language_info": {
   "file_extension": ".jl",
   "mimetype": "application/julia",
   "name": "julia",
   "version": "0.5.2"
  }
 },
 "nbformat": 4,
 "nbformat_minor": 2
}
